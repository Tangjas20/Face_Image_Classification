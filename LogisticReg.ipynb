{
 "cells": [
  {
   "cell_type": "code",
   "execution_count": 12,
   "metadata": {
    "collapsed": true,
    "pycharm": {
     "name": "#%%\n"
    }
   },
   "outputs": [],
   "source": [
    "import os\n",
    "import numpy as np\n",
    "from skimage import data, io, segmentation, color, data\n",
    "import matplotlib.pyplot as plt\n",
    "from skimage.transform import resize\n",
    "%store -r x\n",
    "%store -r y\n"
   ]
  },
  {
   "cell_type": "code",
   "execution_count": 13,
   "outputs": [],
   "source": [
    "from sklearn.linear_model import LogisticRegression\n",
    "clf = LogisticRegression(random_state=0, max_iter=10000)\n"
   ],
   "metadata": {
    "collapsed": false,
    "pycharm": {
     "name": "#%%\n"
    }
   }
  },
  {
   "cell_type": "code",
   "execution_count": 14,
   "outputs": [
    {
     "name": "stdout",
     "output_type": "stream",
     "text": [
      "Splitted Successfully\n",
      "The Model is trained well with the given images\n"
     ]
    }
   ],
   "source": [
    "from sklearn.model_selection import train_test_split\n",
    "x_train,x_test,y_train,y_test=train_test_split(x,y, test_size = 0.2, random_state=42, stratify = y)\n",
    "print('Splitted Successfully')\n",
    "clf.fit(x_train,y_train)\n",
    "print('The Model is trained well with the given images')\n",
    "# model.best_params_ contains the best parameters obtained from GridSearchCV"
   ],
   "metadata": {
    "collapsed": false,
    "pycharm": {
     "name": "#%%\n"
    }
   }
  },
  {
   "cell_type": "code",
   "execution_count": 15,
   "outputs": [
    {
     "name": "stdout",
     "output_type": "stream",
     "text": [
      "The predicted Data is:\n",
      "[0 0 2 1 1 2 2 0 0 0 0 0 0 0 0 0 1 2 1 0 0 0 2 2 0 1 0 0 0 0 0 0 0 0 1 0 1\n",
      " 0 0 0 1 0 2 0 0 0 2 0 0 2 2 1 0 1 0 0 1 0 1 2 1 0 1 0 0 0 2 0 0 0 2 2 0 0\n",
      " 2 1 1 1 0 2 2 0 0 0 0 0 2 1 0 0 0 1 0 2 0 2 2 0 0 2 0 0 2 0 0 0 0 0 1 2 0\n",
      " 0 0 0 0]\n",
      "The actual data is:\n",
      "[0 0 2 1 2 2 2 0 0 0 0 0 0 0 0 0 1 2 1 0 0 0 2 2 0 1 0 0 0 0 0 0 0 0 1 0 1\n",
      " 0 0 0 1 0 2 0 0 0 2 0 0 2 2 1 0 1 0 0 1 0 1 2 1 0 1 0 0 0 2 0 0 0 2 2 0 0\n",
      " 2 1 1 1 0 2 2 0 0 0 0 0 2 1 0 0 0 1 0 2 0 2 2 0 0 2 0 0 2 0 0 0 0 0 1 2 0\n",
      " 0 0 0 0]\n",
      "0.991304347826087\n",
      "0.991304347826087\n"
     ]
    }
   ],
   "source": [
    "from sklearn.metrics import accuracy_score\n",
    "\n",
    "y_pred = clf.predict(x_test)\n",
    "print(\"The predicted Data is:\")\n",
    "print(y_pred)\n",
    "print(\"The actual data is:\")\n",
    "print(np.array(y_test))\n",
    "#print(f\"the model is {accuracy_score(y_pred, y_test)*100}\")\n",
    "print(accuracy_score(y_test, y_pred))\n",
    "print(np.mean(y_pred == y_test))"
   ],
   "metadata": {
    "collapsed": false,
    "pycharm": {
     "name": "#%%\n"
    }
   }
  },
  {
   "cell_type": "code",
   "execution_count": 16,
   "outputs": [
    {
     "name": "stdout",
     "output_type": "stream",
     "text": [
      "Test set score: 1.00\n"
     ]
    }
   ],
   "source": [
    "from sklearn.neighbors import KNeighborsClassifier\n",
    "X_train, X_test, y_train, y_test = train_test_split(\n",
    "x, y, random_state = 0)\n",
    "knn = KNeighborsClassifier(n_neighbors=1)\n",
    "knn.fit(X_train, y_train)\n",
    "print(\"Test set score: {:.2f}\".format(knn.score(X_test, y_test)))"
   ],
   "metadata": {
    "collapsed": false,
    "pycharm": {
     "name": "#%%\n"
    }
   }
  }
 ],
 "metadata": {
  "kernelspec": {
   "display_name": "Python 3",
   "language": "python",
   "name": "python3"
  },
  "language_info": {
   "codemirror_mode": {
    "name": "ipython",
    "version": 2
   },
   "file_extension": ".py",
   "mimetype": "text/x-python",
   "name": "python",
   "nbconvert_exporter": "python",
   "pygments_lexer": "ipython2",
   "version": "2.7.6"
  }
 },
 "nbformat": 4,
 "nbformat_minor": 0
}