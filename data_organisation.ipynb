{
 "cells": [
  {
   "cell_type": "code",
   "execution_count": null,
   "metadata": {
    "collapsed": true,
    "pycharm": {
     "name": "#%%\n",
     "is_executing": true
    }
   },
   "outputs": [],
   "source": [
    "import os\n",
    "from skimage import data, io, segmentation, color, data\n",
    "from skimage.transform import resize\n",
    "import pandas as pd\n",
    "import numpy as np\n",
    "import matplotlib.pyplot as plt"
   ]
  },
  {
   "cell_type": "code",
   "execution_count": 20,
   "outputs": [],
   "source": [
    "#This sorts a given list into alphanumeric order\n",
    "import re\n",
    "def sorted_nicely(l):\n",
    "    \"\"\" Sorts the given iterable in the way that is expected.\n",
    "    Required arguments:\n",
    "    l -- The iterable to be sorted.\n",
    "    \"\"\"\n",
    "    convert = lambda text: int(text) if text.isdigit() else text\n",
    "    alphanum_key = lambda key: [convert(c) for c in re.split('([0-9]+)', key)]\n",
    "    return sorted(l, key = alphanum_key)"
   ],
   "metadata": {
    "collapsed": false,
    "pycharm": {
     "name": "#%%\n"
    }
   }
  },
  {
   "cell_type": "code",
   "execution_count": 21,
   "outputs": [
    {
     "name": "stdout",
     "output_type": "stream",
     "text": [
      "['1a', '1b', '1c', '1d', '1e', '1f', '1g', '1h', '1i', '1j', '1k', '1l', '1m', '1n', '1o', '1p', '1q', '1r', '1s', '1t']\n"
     ]
    }
   ],
   "source": [
    "#This block will get the classification folder names and sort them into alphanumeric so it can be used later on for making classes.\n",
    "current_directory = os.getcwd()\n",
    "#print(current_directory)\n",
    "classification_file_directory = current_directory + \"/Classification_files\"\n",
    "classification_files_names = os.listdir(classification_file_directory)\n",
    "\n",
    "for i in classification_files_names:\n",
    "    if \".\" in i:\n",
    "        classification_files_names.remove(i)"
   ],
   "metadata": {
    "collapsed": false,
    "pycharm": {
     "name": "#%%\n"
    }
   }
  },
  {
   "cell_type": "code",
   "execution_count": 22,
   "outputs": [
    {
     "name": "stdout",
     "output_type": "stream",
     "text": [
      "{'1a': ['1a000.pgm', '1a001.pgm', '1a002.pgm', '1a003.pgm', '1a004.pgm', '1a005.pgm', '1a006.pgm', '1a007.pgm', '1a008.pgm', '1a009.pgm', '1a010.pgm', '1a011.pgm', '1a012.pgm', '1a013.pgm', '1a014.pgm', '1a015.pgm', '1a016.pgm', '1a017.pgm', '1a018.pgm', '1a019.pgm', '1a020.pgm', '1a021.pgm', '1a022.pgm', '1a023.pgm', '1a024.pgm', '1a025.pgm', '1a026.pgm', '1a027.pgm', '1a028.pgm', '1a029.pgm', '1a030.pgm', '1a031.pgm', '1a032.pgm', '1a033.pgm', '1a034.pgm', '1a035.pgm', '1a041.pgm', '1a043.pgm'], '1b': ['1b000.pgm', '1b003.pgm', '1b008.pgm', '1b011.pgm', '1b014.pgm', '1b015.pgm', '1b016.pgm', '1b018.pgm', '1b024.pgm', '1b028.pgm', '1b032.pgm', '1b035.pgm', '1b038.pgm', '1b039.pgm', '1b040.pgm', '1b044.pgm', '1b048.pgm', '1b051.pgm', '1b054.pgm', '1b056.pgm', '1b060.pgm', '1b064.pgm', '1b068.pgm', '1b072.pgm', '1b076.pgm', 'final00.pgm', 'final01.pgm', 'final02.pgm', 'final03.pgm', 'final04.pgm', 'final05.pgm', 'final06.pgm', 'final07.pgm', 'final08.pgm', 'final09.pgm'], '1c': ['1c000.pgm', '1c004.pgm', '1c007.pgm', '1c010.pgm', '1c013.pgm', '1c016.pgm', '1c018.pgm', '1c022.pgm', '1c025.pgm', '1c028.pgm', '1c032.pgm', '1c035.pgm', '1c037.pgm', '1c040.pgm', '1c043.pgm', '1c046.pgm', '1c049.pgm', '1c052.pgm', '1c054.pgm', '1c058.pgm', '1c060.pgm', '1c062.pgm', '1c063.pgm', '1c065.pgm', '1c066.pgm', '1c069.pgm'], '1d': ['1d000.pgm', '1d004.pgm', '1d008.pgm', '1d010.pgm', '1d012.pgm', '1d013.pgm', '1d014.pgm', '1d015.pgm', '1d016.pgm', '1d017.pgm', '1d018.pgm', '1d019.pgm', '1d020.pgm', '1d022.pgm', '1d023.pgm', '1d024.pgm', '1d027.pgm', '1d029.pgm', '1d031.pgm', '1d032.pgm', '1d033.pgm', '1d035.pgm', '1d037.pgm', '1d039.pgm'], '1e': ['1e000.pgm', '1e001.pgm', '1e002.pgm', '1e003.pgm', '1e004.pgm', '1e005.pgm', '1e006.pgm', '1e007.pgm', '1e008.pgm', '1e009.pgm', '1e010.pgm', '1e011.pgm', '1e012.pgm', '1e013.pgm', '1e014.pgm', '1e015.pgm', '1e016.pgm', '1e017.pgm', '1e018.pgm', '1e019.pgm', '1e020.pgm', '1e021.pgm', '1e022.pgm', '1e023.pgm', '1e024.pgm', '1e025.pgm'], '1f': ['1f000.pgm', '1f005.pgm', '1f009.pgm', '1f012.pgm', '1f015.pgm', '1f018.pgm', '1f021.pgm', '1f024.pgm', '1f027.pgm', '1f030.pgm', '1f033.pgm', '1f037.pgm', '1f040.pgm', '1f044.pgm', '1f049.pgm', '1f051.pgm', '1f054.pgm', '1f056.pgm', '1f059.pgm', '1f062.pgm', '1f065.pgm', '1f068.pgm', '1f073.pgm'], '1g': ['1g004.pgm', '1g006.pgm', '1g008.pgm', '1g009.pgm', '1g010.pgm', '1g011.pgm', '1g012.pgm', '1g014.pgm', '1g021.pgm', '1g022.pgm', '1g023.pgm', '1g024.pgm', '1g025.pgm', '1g026.pgm', '1g027.pgm', '1g029.pgm', '1g031.pgm', '1g036.pgm', '1g040.pgm'], '1h': ['1h002.pgm', '1h003.pgm', '1h004.pgm', '1h005.pgm', '1h006.pgm', '1h007.pgm', '1h008.pgm', '1h009.pgm', '1h010.pgm', '1h012.pgm', '1h014.pgm', '1h016.pgm', '1h018.pgm', '1h020.pgm', '1h022.pgm', '1h024.pgm', '1h026.pgm', '1h028.pgm', '1h030.pgm', '1h031.pgm', '1h032.pgm', '1h035.pgm'], '1i': ['1i000.pgm', '1i002.pgm', '1i003.pgm', '1i005.pgm', '1i006.pgm', '1i007.pgm', '1i008.pgm', '1i009.pgm', '1i010.pgm', '1i011.pgm', '1i012.pgm', '1i013.pgm', '1i014.pgm', '1i020.pgm', '1i021.pgm', '1i022.pgm', '1i027.pgm', '1i028.pgm', '1i029.pgm', '1i030.pgm'], '1j': ['1j000.pgm', '1j001.pgm', '1j005.pgm', '1j006.pgm', '1j007.pgm', '1j010.pgm', '1j018.pgm', '1j021.pgm', '1j024.pgm', '1j028.pgm', '1j029.pgm', '1j030.pgm', '1j034.pgm', '1j035.pgm', '1j038.pgm', '1j039.pgm', '1j040.pgm', '1j041.pgm', '1j042.pgm', '1j044.pgm', '1j045.pgm', '1j047.pgm', '1j048.pgm', '1j049.pgm', '1j050.pgm', '1j051.pgm', '1j052.pgm', '1j053.pgm', '1j054.pgm', '1j055.pgm', '1j056.pgm', '1j061.pgm'], '1k': ['1k001.pgm', '1k002.pgm', '1k003.pgm', '1k004.pgm', '1k011.pgm', '1k014.pgm', '1k016.pgm', '1k019.pgm', '1k020.pgm', '1k022.pgm', '1k024.pgm', '1k025.pgm', '1k026.pgm', '1k028.pgm', '1k030.pgm', '1k033.pgm', '1k035.pgm', '1k037.pgm', '1k040.pgm', '1k041.pgm', '1k043.pgm', '1k044.pgm', '1k045.pgm', '1k047.pgm', '1k048.pgm', '1k049.pgm', '1k050.pgm', '1k051.pgm', '1k052.pgm', '1k053.pgm', '1k054.pgm', '1k055.pgm', '1k056.pgm', '1k059.pgm'], '1l': ['1l000.pgm', '1l002.pgm', '1l003.pgm', '1l004.pgm', '1l006.pgm', '1l008.pgm', '1l009.pgm', '1l011.pgm', '1l018.pgm', '1l019.pgm', '1l020.pgm', '1l021.pgm', '1l026.pgm', '1l028.pgm', '1l030.pgm', '1l031.pgm', '1l033.pgm', '1l034.pgm', '1l037.pgm', '1l038.pgm', '1l039.pgm', '1l040.pgm', '1l042.pgm', '1l043.pgm', '1l044.pgm', '1l045.pgm', '1l046.pgm', '1l047.pgm', '1l049.pgm', '1l050.pgm', '1l051.pgm', '1l053.pgm', '1l057.pgm', '1l061.pgm'], '1m': ['1m000.pgm', '1m003.pgm', '1m007.pgm', '1m009.pgm', '1m010.pgm', '1m011.pgm', '1m013.pgm', '1m016.pgm', '1m017.pgm', '1m018.pgm', '1m019.pgm', '1m020.pgm', '1m022.pgm', '1m024.pgm', '1m026.pgm', '1m028.pgm', '1m030.pgm', '1m034.pgm', '1m036.pgm', '1m038.pgm', '1m040.pgm', '1m042.pgm', '1m044.pgm', '1m046.pgm', '1m048.pgm', '1m050.pgm'], '1n': ['1n000.pgm', '1n002.pgm', '1n003.pgm', '1n004.pgm', '1n005.pgm', '1n006.pgm', '1n007.pgm', '1n008.pgm', '1n009.pgm', '1n010.pgm', '1n011.pgm', '1n012.pgm', '1n013.pgm', '1n014.pgm', '1n015.pgm', '1n016.pgm', '1n022.pgm', '1n023.pgm', '1n024.pgm', '1n025.pgm', '1n026.pgm', '1n027.pgm', '1n028.pgm', '1n029.pgm', '1n030.pgm', '1n031.pgm', '1n032.pgm', '1n033.pgm', '1n034.pgm', '1n035.pgm'], '1o': ['1o000.pgm', '1o001.pgm', '1o004.pgm', '1o005.pgm', '1o006.pgm', '1o007.pgm', '1o008.pgm', '1o009.pgm', '1o010.pgm', '1o011.pgm', '1o012.pgm', '1o013.pgm', '1o014.pgm', '1o015.pgm', '1o019.pgm', '1o020.pgm', '1o021.pgm', '1o022.pgm', '1o023.pgm'], '1p': ['1p000.pgm', '1p001.pgm', '1p002.pgm', '1p003.pgm', '1p004.pgm', '1p005.pgm', '1p006.pgm', '1p007.pgm', '1p008.pgm', '1p009.pgm', '1p010.pgm', '1p011.pgm', '1p012.pgm', '1p013.pgm', '1p014.pgm', '1p015.pgm', '1p016.pgm', '1p017.pgm', '1p018.pgm', '1p019.pgm', '1p020.pgm', '1p021.pgm', '1p022.pgm', '1p023.pgm', '1p024.pgm', '1p025.pgm'], '1q': ['1q001.pgm', '1q003.pgm', '1q005.pgm', '1q006.pgm', '1q007.pgm', '1q008.pgm', '1q009.pgm', '1q010.pgm', '1q011.pgm', '1q012.pgm', '1q013.pgm', '1q014.pgm', '1q015.pgm', '1q016.pgm', '1q017.pgm', '1q018.pgm', '1q019.pgm', '1q020.pgm', '1q021.pgm', '1q022.pgm', '1q023.pgm', '1q024.pgm', '1q025.pgm', '1q027.pgm', '1q030.pgm', '1q031.pgm'], '1r': ['1r006.pgm', '1r007.pgm', '1r008.pgm', '1r009.pgm', '1r010.pgm', '1r011.pgm', '1r012.pgm', '1r013.pgm', '1r014.pgm', '1r015.pgm', '1r016.pgm', '1r017.pgm', '1r018.pgm', '1r019.pgm', '1r020.pgm', '1r021.pgm', '1r022.pgm', '1r023.pgm', '1r024.pgm', '1r025.pgm', '1r026.pgm', '1r027.pgm', '1r028.pgm', '1r029.pgm', '1r030.pgm', '1r031.pgm', '1r032.pgm', '1r033.pgm', '1r034.pgm', '1r035.pgm', '1r036.pgm', '1r037.pgm', '1r038.pgm'], '1s': ['1s000.pgm', '1s001.pgm', '1s003.pgm', '1s004.pgm', '1s005.pgm', '1s006.pgm', '1s007.pgm', '1s008.pgm', '1s009.pgm', '1s010.pgm', '1s011.pgm', '1s012.pgm', '1s013.pgm', '1s014.pgm', '1s015.pgm', '1s016.pgm', '1s017.pgm', '1s018.pgm', '1s019.pgm', '1s020.pgm', '1s021.pgm', '1s022.pgm', '1s023.pgm', '1s024.pgm', '1s025.pgm', '1s026.pgm', '1s027.pgm', '1s028.pgm', '1s029.pgm', '1s030.pgm', '1s031.pgm', '1s032.pgm', '1s033.pgm', '1s034.pgm', '1s035.pgm', '1s036.pgm', '1s037.pgm', '1s038.pgm', '1s039.pgm', '1s040.pgm', '1s041.pgm', '1s042.pgm', '1s043.pgm', '1s044.pgm', '1s045.pgm', '1s046.pgm', '1s047.pgm', '1s048.pgm'], '1t': ['1t000.pgm', '1t001.pgm', '1t002.pgm', '1t003.pgm', '1t004.pgm', '1t005.pgm', '1t006.pgm', '1t007.pgm', '1t008.pgm', '1t009.pgm', '1t010.pgm', '1t011.pgm', '1t012.pgm', '1t013.pgm', '1t014.pgm', '1t015.pgm', '1t016.pgm', '1t017.pgm', '1t018.pgm', '1t019.pgm', '1t020.pgm', '1t021.pgm', '1t022.pgm', '1t023.pgm', '1t034.pgm', '1t035.pgm', '1t036.pgm', '1t044.pgm', '1t045.pgm', '1t046.pgm', '1t047.pgm', '1t048.pgm', '1t049.pgm', '1t100.pgm']}\n"
     ]
    }
   ],
   "source": [
    "#This block will now take those file directories and find the underlying picture files\n",
    "image_dictionary = {}\n",
    "for folder_name in classification_files_names:\n",
    "    individual_image_files = classification_file_directory + \"/{}/face\".format(folder_name)\n",
    "    list_of_individual_images = os.listdir(individual_image_files)\n",
    "    image_dictionary[folder_name] = sorted_nicely(list_of_individual_images)\n",
    "\n",
    "#Now image_dictionary stores the key of the folder with the list of values in the folder\n",
    "#I did this so that we can iterate through it easily."
   ],
   "metadata": {
    "collapsed": false,
    "pycharm": {
     "name": "#%%\n"
    }
   }
  },
  {
   "cell_type": "code",
   "execution_count": 23,
   "outputs": [],
   "source": [
    "#Now we should set up a class with attributes that we will need in order to classify\n",
    "class Person:\n",
    "    name_of_person = None\n",
    "    list_of_vector_array = []\n",
    "    gender = None\n",
    "    race = None\n",
    "    target = None\n",
    "\n",
    "    def __init__(self, name, list_of_vector_array):\n",
    "        self.name_of_person = name\n",
    "        self.list_of_vector_array = np.array(list_of_vector_array)"
   ],
   "metadata": {
    "collapsed": false,
    "pycharm": {
     "name": "#%%\n"
    }
   }
  },
  {
   "cell_type": "code",
   "execution_count": 24,
   "outputs": [],
   "source": [
    "#An example of using this could be\n",
    "alphabetical_keys = sorted_nicely(list(image_dictionary))\n",
    "temporary_list_for_class_use_later = []\n",
    "\n",
    "for key in alphabetical_keys:\n",
    "\n",
    "    image_list = []\n",
    "    for i in image_dictionary[key]:\n",
    "        vector_image = io.imread(classification_file_directory + \"/{}/face/\".format(key) + i)\n",
    "        img_resized = resize(vector_image, (112, 92, 4))\n",
    "        flatten_img = img_resized.flatten()\n",
    "        image_list.append(flatten_img)\n",
    "\n",
    "    person = Person(key, image_list)\n",
    "    temporary_list_for_class_use_later.append(person)\n",
    "#So Imread is the skimage thing we will be using to read the images. This cell is just a demonstration on how to use the key values in the dictionary made\n",
    "#This makes it so that we can read all the images easily\n",
    "#Note you should run the file in your own IDE because the CWD will change and it won't be Jason Tang"
   ],
   "metadata": {
    "collapsed": false,
    "pycharm": {
     "name": "#%%\n"
    }
   }
  },
  {
   "cell_type": "code",
   "execution_count": 25,
   "outputs": [
    {
     "name": "stdout",
     "output_type": "stream",
     "text": [
      "1t\n",
      "1\n"
     ]
    }
   ],
   "source": [
    "#Adding gender and race each person class\n",
    "\n",
    "temporary_list_for_class_use_later[0].gender = \"Male\"\n",
    "temporary_list_for_class_use_later[0].race = \"Caucasian\"\n",
    "\n",
    "temporary_list_for_class_use_later[1].gender = \"Male\"\n",
    "temporary_list_for_class_use_later[1].race = \"Caucasian\"\n",
    "\n",
    "temporary_list_for_class_use_later[2].gender = \"Male\"\n",
    "temporary_list_for_class_use_later[2].race = \"Caucasian\"\n",
    "\n",
    "temporary_list_for_class_use_later[3].gender = \"Male\"\n",
    "temporary_list_for_class_use_later[3].race = \"Not Caucasian\"\n",
    "\n",
    "temporary_list_for_class_use_later[4].gender = \"Male\"\n",
    "temporary_list_for_class_use_later[4].race = \"Caucasian\"\n",
    "\n",
    "temporary_list_for_class_use_later[5].gender = \"Male\"\n",
    "temporary_list_for_class_use_later[5].race = \"Caucasian\"\n",
    "\n",
    "temporary_list_for_class_use_later[6].gender = \"Female\"\n",
    "temporary_list_for_class_use_later[6].race = \"Caucasian\"\n",
    "\n",
    "temporary_list_for_class_use_later[7].gender = \"Female\"\n",
    "temporary_list_for_class_use_later[7].race = \"Caucasian\"\n",
    "\n",
    "temporary_list_for_class_use_later[8].gender = \"Female\"\n",
    "temporary_list_for_class_use_later[8].race = \"Caucasian\"\n",
    "\n",
    "temporary_list_for_class_use_later[9].gender = \"Male\"\n",
    "temporary_list_for_class_use_later[9].race = \"Not Caucasian\"\n",
    "\n",
    "temporary_list_for_class_use_later[10].gender = \"Male\"\n",
    "temporary_list_for_class_use_later[10].race = \"Not Caucasian\"\n",
    "\n",
    "temporary_list_for_class_use_later[11].gender = \"Male\"\n",
    "temporary_list_for_class_use_later[11].race = \"Not Caucasian\"\n",
    "\n",
    "temporary_list_for_class_use_later[12].gender = \"Male\"\n",
    "temporary_list_for_class_use_later[12].race = \"Caucasian\"\n",
    "\n",
    "temporary_list_for_class_use_later[13].gender = \"Male\"\n",
    "temporary_list_for_class_use_later[13].race = \"Caucasian\"\n",
    "\n",
    "temporary_list_for_class_use_later[14].gender = \"Male\"\n",
    "temporary_list_for_class_use_later[14].race = \"Caucasian\"\n",
    "\n",
    "temporary_list_for_class_use_later[15].gender = \"Male\"\n",
    "temporary_list_for_class_use_later[15].race = \"Caucasian\"\n",
    "\n",
    "temporary_list_for_class_use_later[16].gender = \"Male\"\n",
    "temporary_list_for_class_use_later[16].race = \"Caucasian\"\n",
    "\n",
    "temporary_list_for_class_use_later[17].gender = \"Male\"\n",
    "temporary_list_for_class_use_later[17].race = \"Caucasian\"\n",
    "\n",
    "temporary_list_for_class_use_later[18].gender = \"Male\"\n",
    "temporary_list_for_class_use_later[18].race = \"Caucasian\"\n",
    "\n",
    "temporary_list_for_class_use_later[19].gender = \"Female\"\n",
    "temporary_list_for_class_use_later[19].race = \"Caucasian\"\n",
    "\n",
    "for i in temporary_list_for_class_use_later:\n",
    "    if i.race == \"Caucasian\" and i.gender == \"Male\":\n",
    "        i.target = 0\n",
    "    elif i.race == \"Caucasian\" and i.gender == \"Female\":\n",
    "        i.target = 1\n",
    "    elif i.race == \"Not Caucasian\" and i.gender == \"Male\":\n",
    "        i.target = 2\n",
    "    elif i.race == \"Not Caucasian\" and i.gender == \"Female\":\n",
    "        i.target = 3\n"
   ],
   "metadata": {
    "collapsed": false,
    "pycharm": {
     "name": "#%%\n"
    }
   }
  },
  {
   "cell_type": "code",
   "execution_count": 26,
   "outputs": [
    {
     "name": "stdout",
     "output_type": "stream",
     "text": [
      "[[0.90980392 0.90980392 0.90980392 ... 0.52941176 0.52941176 0.52941176]\n",
      " [0.91372549 0.91372549 0.91372549 ... 0.53333333 0.53333333 0.53333333]\n",
      " [0.91372549 0.91372549 0.91372549 ... 0.56470588 0.56470588 0.56470588]\n",
      " ...\n",
      " [0.92156863 0.92156863 0.92156863 ... 0.75294118 0.75294118 0.75294118]\n",
      " [0.89803922 0.89803922 0.89803922 ... 0.72156863 0.72156863 0.72156863]\n",
      " [0.91372549 0.91372549 0.91372549 ... 0.83921569 0.83921569 0.83921569]]\n"
     ]
    }
   ],
   "source": [
    "Categories =[\"Male Cauc\", \"Female Cauc\", \"Male Not Cauc\", \"Female Not Cauc\"]\n",
    "vector_array = []\n",
    "target_arr = []\n",
    "print(temporary_list_for_class_use_later[0].list_of_vector_array)\n",
    "for i in temporary_list_for_class_use_later:\n",
    "    for j in i.list_of_vector_array:\n",
    "        vector_array.append(j)\n",
    "        target_arr.append(i.target)\n",
    "\n",
    "flat_data = np.array(vector_array)\n",
    "target=np.array(target_arr)"
   ],
   "metadata": {
    "collapsed": false,
    "pycharm": {
     "name": "#%%\n"
    }
   }
  },
  {
   "cell_type": "code",
   "execution_count": 34,
   "outputs": [
    {
     "data": {
      "text/plain": "            0         1         2         3         4         5         6  \\\n0    0.909804  0.909804  0.909804  0.909804  0.913725  0.913725  0.913725   \n1    0.913725  0.913725  0.913725  0.913725  0.913725  0.913725  0.913725   \n2    0.913725  0.913725  0.913725  0.913725  0.913725  0.913725  0.913725   \n3    0.913725  0.913725  0.913725  0.913725  0.913725  0.913725  0.913725   \n4    0.913725  0.913725  0.913725  0.913725  0.913725  0.913725  0.913725   \n..        ...       ...       ...       ...       ...       ...       ...   \n570  0.160784  0.160784  0.160784  0.160784  0.149020  0.149020  0.149020   \n571  0.156863  0.156863  0.156863  0.156863  0.164706  0.164706  0.164706   \n572  0.149020  0.149020  0.149020  0.149020  0.164706  0.164706  0.164706   \n573  0.188235  0.188235  0.188235  0.188235  0.188235  0.188235  0.188235   \n574  0.054902  0.054902  0.054902  0.054902  0.105882  0.105882  0.105882   \n\n            7         8         9  ...     41207     41208     41209  \\\n0    0.913725  0.913725  0.913725  ...  0.549020  0.545098  0.545098   \n1    0.913725  0.913725  0.913725  ...  0.537255  0.533333  0.533333   \n2    0.913725  0.913725  0.913725  ...  0.576471  0.564706  0.564706   \n3    0.913725  0.913725  0.913725  ...  0.560784  0.552941  0.552941   \n4    0.913725  0.913725  0.913725  ...  0.584314  0.576471  0.576471   \n..        ...       ...       ...  ...       ...       ...       ...   \n570  0.149020  0.164706  0.164706  ...  0.443137  0.439216  0.439216   \n571  0.164706  0.160784  0.160784  ...  0.439216  0.443137  0.443137   \n572  0.164706  0.164706  0.164706  ...  0.439216  0.443137  0.443137   \n573  0.188235  0.172549  0.172549  ...  0.447059  0.443137  0.443137   \n574  0.105882  0.062745  0.062745  ...  0.411765  0.337255  0.337255   \n\n        41210     41211     41212     41213     41214     41215  Target  \n0    0.545098  0.545098  0.529412  0.529412  0.529412  0.529412       0  \n1    0.533333  0.533333  0.533333  0.533333  0.533333  0.533333       0  \n2    0.564706  0.564706  0.564706  0.564706  0.564706  0.564706       0  \n3    0.552941  0.552941  0.556863  0.556863  0.556863  0.556863       0  \n4    0.576471  0.576471  0.576471  0.576471  0.576471  0.576471       0  \n..        ...       ...       ...       ...       ...       ...     ...  \n570  0.439216  0.439216  0.439216  0.439216  0.439216  0.439216       1  \n571  0.443137  0.443137  0.443137  0.443137  0.443137  0.443137       1  \n572  0.443137  0.443137  0.439216  0.439216  0.439216  0.439216       1  \n573  0.443137  0.443137  0.447059  0.447059  0.447059  0.447059       1  \n574  0.337255  0.337255  0.333333  0.333333  0.333333  0.333333       1  \n\n[575 rows x 41217 columns]",
      "text/html": "<div>\n<style scoped>\n    .dataframe tbody tr th:only-of-type {\n        vertical-align: middle;\n    }\n\n    .dataframe tbody tr th {\n        vertical-align: top;\n    }\n\n    .dataframe thead th {\n        text-align: right;\n    }\n</style>\n<table border=\"1\" class=\"dataframe\">\n  <thead>\n    <tr style=\"text-align: right;\">\n      <th></th>\n      <th>0</th>\n      <th>1</th>\n      <th>2</th>\n      <th>3</th>\n      <th>4</th>\n      <th>5</th>\n      <th>6</th>\n      <th>7</th>\n      <th>8</th>\n      <th>9</th>\n      <th>...</th>\n      <th>41207</th>\n      <th>41208</th>\n      <th>41209</th>\n      <th>41210</th>\n      <th>41211</th>\n      <th>41212</th>\n      <th>41213</th>\n      <th>41214</th>\n      <th>41215</th>\n      <th>Target</th>\n    </tr>\n  </thead>\n  <tbody>\n    <tr>\n      <th>0</th>\n      <td>0.909804</td>\n      <td>0.909804</td>\n      <td>0.909804</td>\n      <td>0.909804</td>\n      <td>0.913725</td>\n      <td>0.913725</td>\n      <td>0.913725</td>\n      <td>0.913725</td>\n      <td>0.913725</td>\n      <td>0.913725</td>\n      <td>...</td>\n      <td>0.549020</td>\n      <td>0.545098</td>\n      <td>0.545098</td>\n      <td>0.545098</td>\n      <td>0.545098</td>\n      <td>0.529412</td>\n      <td>0.529412</td>\n      <td>0.529412</td>\n      <td>0.529412</td>\n      <td>0</td>\n    </tr>\n    <tr>\n      <th>1</th>\n      <td>0.913725</td>\n      <td>0.913725</td>\n      <td>0.913725</td>\n      <td>0.913725</td>\n      <td>0.913725</td>\n      <td>0.913725</td>\n      <td>0.913725</td>\n      <td>0.913725</td>\n      <td>0.913725</td>\n      <td>0.913725</td>\n      <td>...</td>\n      <td>0.537255</td>\n      <td>0.533333</td>\n      <td>0.533333</td>\n      <td>0.533333</td>\n      <td>0.533333</td>\n      <td>0.533333</td>\n      <td>0.533333</td>\n      <td>0.533333</td>\n      <td>0.533333</td>\n      <td>0</td>\n    </tr>\n    <tr>\n      <th>2</th>\n      <td>0.913725</td>\n      <td>0.913725</td>\n      <td>0.913725</td>\n      <td>0.913725</td>\n      <td>0.913725</td>\n      <td>0.913725</td>\n      <td>0.913725</td>\n      <td>0.913725</td>\n      <td>0.913725</td>\n      <td>0.913725</td>\n      <td>...</td>\n      <td>0.576471</td>\n      <td>0.564706</td>\n      <td>0.564706</td>\n      <td>0.564706</td>\n      <td>0.564706</td>\n      <td>0.564706</td>\n      <td>0.564706</td>\n      <td>0.564706</td>\n      <td>0.564706</td>\n      <td>0</td>\n    </tr>\n    <tr>\n      <th>3</th>\n      <td>0.913725</td>\n      <td>0.913725</td>\n      <td>0.913725</td>\n      <td>0.913725</td>\n      <td>0.913725</td>\n      <td>0.913725</td>\n      <td>0.913725</td>\n      <td>0.913725</td>\n      <td>0.913725</td>\n      <td>0.913725</td>\n      <td>...</td>\n      <td>0.560784</td>\n      <td>0.552941</td>\n      <td>0.552941</td>\n      <td>0.552941</td>\n      <td>0.552941</td>\n      <td>0.556863</td>\n      <td>0.556863</td>\n      <td>0.556863</td>\n      <td>0.556863</td>\n      <td>0</td>\n    </tr>\n    <tr>\n      <th>4</th>\n      <td>0.913725</td>\n      <td>0.913725</td>\n      <td>0.913725</td>\n      <td>0.913725</td>\n      <td>0.913725</td>\n      <td>0.913725</td>\n      <td>0.913725</td>\n      <td>0.913725</td>\n      <td>0.913725</td>\n      <td>0.913725</td>\n      <td>...</td>\n      <td>0.584314</td>\n      <td>0.576471</td>\n      <td>0.576471</td>\n      <td>0.576471</td>\n      <td>0.576471</td>\n      <td>0.576471</td>\n      <td>0.576471</td>\n      <td>0.576471</td>\n      <td>0.576471</td>\n      <td>0</td>\n    </tr>\n    <tr>\n      <th>...</th>\n      <td>...</td>\n      <td>...</td>\n      <td>...</td>\n      <td>...</td>\n      <td>...</td>\n      <td>...</td>\n      <td>...</td>\n      <td>...</td>\n      <td>...</td>\n      <td>...</td>\n      <td>...</td>\n      <td>...</td>\n      <td>...</td>\n      <td>...</td>\n      <td>...</td>\n      <td>...</td>\n      <td>...</td>\n      <td>...</td>\n      <td>...</td>\n      <td>...</td>\n      <td>...</td>\n    </tr>\n    <tr>\n      <th>570</th>\n      <td>0.160784</td>\n      <td>0.160784</td>\n      <td>0.160784</td>\n      <td>0.160784</td>\n      <td>0.149020</td>\n      <td>0.149020</td>\n      <td>0.149020</td>\n      <td>0.149020</td>\n      <td>0.164706</td>\n      <td>0.164706</td>\n      <td>...</td>\n      <td>0.443137</td>\n      <td>0.439216</td>\n      <td>0.439216</td>\n      <td>0.439216</td>\n      <td>0.439216</td>\n      <td>0.439216</td>\n      <td>0.439216</td>\n      <td>0.439216</td>\n      <td>0.439216</td>\n      <td>1</td>\n    </tr>\n    <tr>\n      <th>571</th>\n      <td>0.156863</td>\n      <td>0.156863</td>\n      <td>0.156863</td>\n      <td>0.156863</td>\n      <td>0.164706</td>\n      <td>0.164706</td>\n      <td>0.164706</td>\n      <td>0.164706</td>\n      <td>0.160784</td>\n      <td>0.160784</td>\n      <td>...</td>\n      <td>0.439216</td>\n      <td>0.443137</td>\n      <td>0.443137</td>\n      <td>0.443137</td>\n      <td>0.443137</td>\n      <td>0.443137</td>\n      <td>0.443137</td>\n      <td>0.443137</td>\n      <td>0.443137</td>\n      <td>1</td>\n    </tr>\n    <tr>\n      <th>572</th>\n      <td>0.149020</td>\n      <td>0.149020</td>\n      <td>0.149020</td>\n      <td>0.149020</td>\n      <td>0.164706</td>\n      <td>0.164706</td>\n      <td>0.164706</td>\n      <td>0.164706</td>\n      <td>0.164706</td>\n      <td>0.164706</td>\n      <td>...</td>\n      <td>0.439216</td>\n      <td>0.443137</td>\n      <td>0.443137</td>\n      <td>0.443137</td>\n      <td>0.443137</td>\n      <td>0.439216</td>\n      <td>0.439216</td>\n      <td>0.439216</td>\n      <td>0.439216</td>\n      <td>1</td>\n    </tr>\n    <tr>\n      <th>573</th>\n      <td>0.188235</td>\n      <td>0.188235</td>\n      <td>0.188235</td>\n      <td>0.188235</td>\n      <td>0.188235</td>\n      <td>0.188235</td>\n      <td>0.188235</td>\n      <td>0.188235</td>\n      <td>0.172549</td>\n      <td>0.172549</td>\n      <td>...</td>\n      <td>0.447059</td>\n      <td>0.443137</td>\n      <td>0.443137</td>\n      <td>0.443137</td>\n      <td>0.443137</td>\n      <td>0.447059</td>\n      <td>0.447059</td>\n      <td>0.447059</td>\n      <td>0.447059</td>\n      <td>1</td>\n    </tr>\n    <tr>\n      <th>574</th>\n      <td>0.054902</td>\n      <td>0.054902</td>\n      <td>0.054902</td>\n      <td>0.054902</td>\n      <td>0.105882</td>\n      <td>0.105882</td>\n      <td>0.105882</td>\n      <td>0.105882</td>\n      <td>0.062745</td>\n      <td>0.062745</td>\n      <td>...</td>\n      <td>0.411765</td>\n      <td>0.337255</td>\n      <td>0.337255</td>\n      <td>0.337255</td>\n      <td>0.337255</td>\n      <td>0.333333</td>\n      <td>0.333333</td>\n      <td>0.333333</td>\n      <td>0.333333</td>\n      <td>1</td>\n    </tr>\n  </tbody>\n</table>\n<p>575 rows × 41217 columns</p>\n</div>"
     },
     "metadata": {},
     "output_type": "display_data"
    }
   ],
   "source": [
    "df=pd.DataFrame(flat_data) #dataframe\n",
    "df['Target']=target\n",
    "x=df.iloc[:,:-1] #feature array\n",
    "y=df.iloc[:,-1] #label data y = df['Target']\n",
    "display(df)"
   ],
   "metadata": {
    "collapsed": false,
    "pycharm": {
     "name": "#%%\n"
    }
   }
  },
  {
   "cell_type": "code",
   "execution_count": 32,
   "outputs": [
    {
     "name": "stdout",
     "output_type": "stream",
     "text": [
      "Stored 'x' (DataFrame)\n",
      "Stored 'y' (Series)\n"
     ]
    }
   ],
   "source": [
    "%store x\n",
    "%store y"
   ],
   "metadata": {
    "collapsed": false,
    "pycharm": {
     "name": "#%%\n"
    }
   }
  }
 ],
 "metadata": {
  "kernelspec": {
   "display_name": "Python 3",
   "language": "python",
   "name": "python3"
  },
  "language_info": {
   "codemirror_mode": {
    "name": "ipython",
    "version": 2
   },
   "file_extension": ".py",
   "mimetype": "text/x-python",
   "name": "python",
   "nbconvert_exporter": "python",
   "pygments_lexer": "ipython2",
   "version": "2.7.6"
  }
 },
 "nbformat": 4,
 "nbformat_minor": 0
}