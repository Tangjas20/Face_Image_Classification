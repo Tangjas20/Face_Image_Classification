{
 "cells": [
  {
   "cell_type": "code",
   "execution_count": 3,
   "metadata": {
    "collapsed": true,
    "pycharm": {
     "name": "#%%\n"
    }
   },
   "outputs": [],
   "source": [
    "import os\n",
    "from skimage import data, io, segmentation, color, data\n",
    "from skimage.transform import resize\n",
    "import pandas as pd\n",
    "import numpy as np\n",
    "import matplotlib.pyplot as plt"
   ]
  },
  {
   "cell_type": "code",
   "execution_count": 4,
   "outputs": [],
   "source": [
    "#This sorts a given list into alphanumeric order\n",
    "import re\n",
    "def sorted_nicely(l):\n",
    "    \"\"\" Sorts the given iterable in the way that is expected.\n",
    "    Required arguments:\n",
    "    l -- The iterable to be sorted.\n",
    "    \"\"\"\n",
    "    convert = lambda text: int(text) if text.isdigit() else text\n",
    "    alphanum_key = lambda key: [convert(c) for c in re.split('([0-9]+)', key)]\n",
    "    return sorted(l, key = alphanum_key)"
   ],
   "metadata": {
    "collapsed": false,
    "pycharm": {
     "name": "#%%\n"
    }
   }
  },
  {
   "cell_type": "code",
   "execution_count": 5,
   "outputs": [],
   "source": [
    "#This block will get the classification folder names and sort them into alphanumeric so it can be used later on for making classes.\n",
    "current_directory = os.getcwd()\n",
    "#print(current_directory)\n",
    "classification_file_directory = current_directory + \"/Classification_files\"\n",
    "classification_files_names = os.listdir(classification_file_directory)\n",
    "\n",
    "for i in classification_files_names:\n",
    "    if \".\" in i:\n",
    "        classification_files_names.remove(i)"
   ],
   "metadata": {
    "collapsed": false,
    "pycharm": {
     "name": "#%%\n"
    }
   }
  },
  {
   "cell_type": "code",
   "execution_count": 6,
   "outputs": [],
   "source": [
    "#This block will now take those file directories and find the underlying picture files\n",
    "image_dictionary = {}\n",
    "for folder_name in classification_files_names:\n",
    "    individual_image_files = classification_file_directory + \"/{}/face\".format(folder_name)\n",
    "    list_of_individual_images = os.listdir(individual_image_files)\n",
    "    image_dictionary[folder_name] = sorted_nicely(list_of_individual_images)\n",
    "\n",
    "#Now image_dictionary stores the key of the folder with the list of values in the folder\n",
    "#I did this so that we can iterate through it easily."
   ],
   "metadata": {
    "collapsed": false,
    "pycharm": {
     "name": "#%%\n"
    }
   }
  },
  {
   "cell_type": "code",
   "execution_count": 7,
   "outputs": [],
   "source": [
    "#Now we should set up a class with attributes that we will need in order to classify\n",
    "class Person:\n",
    "    name_of_person = None\n",
    "    list_of_vector_array = []\n",
    "    gender = None\n",
    "    race = None\n",
    "    target = None\n",
    "\n",
    "    def __init__(self, name, list_of_vector_array):\n",
    "        self.name_of_person = name\n",
    "        self.list_of_vector_array = np.array(list_of_vector_array)"
   ],
   "metadata": {
    "collapsed": false,
    "pycharm": {
     "name": "#%%\n"
    }
   }
  },
  {
   "cell_type": "code",
   "execution_count": 8,
   "outputs": [],
   "source": [
    "#An example of using this could be\n",
    "alphabetical_keys = sorted_nicely(list(image_dictionary))\n",
    "temporary_list_for_class_use_later = []\n",
    "\n",
    "for key in alphabetical_keys:\n",
    "\n",
    "    image_list = []\n",
    "    for i in image_dictionary[key]:\n",
    "        vector_image = io.imread(classification_file_directory + \"/{}/face/\".format(key) + i)\n",
    "        img_resized = resize(vector_image, (112, 92, 4))\n",
    "        flatten_img = img_resized.flatten()\n",
    "        image_list.append(flatten_img)\n",
    "\n",
    "    person = Person(key, image_list)\n",
    "    temporary_list_for_class_use_later.append(person)\n",
    "#So Imread is the skimage thing we will be using to read the images. This cell is just a demonstration on how to use the key values in the dictionary made\n",
    "#This makes it so that we can read all the images easily\n",
    "#Note you should run the file in your own IDE because the CWD will change and it won't be Jason Tang"
   ],
   "metadata": {
    "collapsed": false,
    "pycharm": {
     "name": "#%%\n"
    }
   }
  },
  {
   "cell_type": "code",
   "execution_count": 9,
   "outputs": [],
   "source": [
    "#Adding gender and race each person class\n",
    "\n",
    "temporary_list_for_class_use_later[0].gender = \"Male\"\n",
    "temporary_list_for_class_use_later[0].race = \"Caucasian\"\n",
    "\n",
    "temporary_list_for_class_use_later[1].gender = \"Male\"\n",
    "temporary_list_for_class_use_later[1].race = \"Caucasian\"\n",
    "\n",
    "temporary_list_for_class_use_later[2].gender = \"Male\"\n",
    "temporary_list_for_class_use_later[2].race = \"Caucasian\"\n",
    "\n",
    "temporary_list_for_class_use_later[3].gender = \"Male\"\n",
    "temporary_list_for_class_use_later[3].race = \"Not Caucasian\"\n",
    "\n",
    "temporary_list_for_class_use_later[4].gender = \"Male\"\n",
    "temporary_list_for_class_use_later[4].race = \"Caucasian\"\n",
    "\n",
    "temporary_list_for_class_use_later[5].gender = \"Male\"\n",
    "temporary_list_for_class_use_later[5].race = \"Caucasian\"\n",
    "\n",
    "temporary_list_for_class_use_later[6].gender = \"Female\"\n",
    "temporary_list_for_class_use_later[6].race = \"Caucasian\"\n",
    "\n",
    "temporary_list_for_class_use_later[7].gender = \"Female\"\n",
    "temporary_list_for_class_use_later[7].race = \"Caucasian\"\n",
    "\n",
    "temporary_list_for_class_use_later[8].gender = \"Female\"\n",
    "temporary_list_for_class_use_later[8].race = \"Caucasian\"\n",
    "\n",
    "temporary_list_for_class_use_later[9].gender = \"Male\"\n",
    "temporary_list_for_class_use_later[9].race = \"Not Caucasian\"\n",
    "\n",
    "temporary_list_for_class_use_later[10].gender = \"Male\"\n",
    "temporary_list_for_class_use_later[10].race = \"Not Caucasian\"\n",
    "\n",
    "temporary_list_for_class_use_later[11].gender = \"Male\"\n",
    "temporary_list_for_class_use_later[11].race = \"Not Caucasian\"\n",
    "\n",
    "temporary_list_for_class_use_later[12].gender = \"Male\"\n",
    "temporary_list_for_class_use_later[12].race = \"Caucasian\"\n",
    "\n",
    "temporary_list_for_class_use_later[13].gender = \"Male\"\n",
    "temporary_list_for_class_use_later[13].race = \"Caucasian\"\n",
    "\n",
    "temporary_list_for_class_use_later[14].gender = \"Male\"\n",
    "temporary_list_for_class_use_later[14].race = \"Caucasian\"\n",
    "\n",
    "temporary_list_for_class_use_later[15].gender = \"Male\"\n",
    "temporary_list_for_class_use_later[15].race = \"Caucasian\"\n",
    "\n",
    "temporary_list_for_class_use_later[16].gender = \"Male\"\n",
    "temporary_list_for_class_use_later[16].race = \"Caucasian\"\n",
    "\n",
    "temporary_list_for_class_use_later[17].gender = \"Male\"\n",
    "temporary_list_for_class_use_later[17].race = \"Caucasian\"\n",
    "\n",
    "temporary_list_for_class_use_later[18].gender = \"Male\"\n",
    "temporary_list_for_class_use_later[18].race = \"Caucasian\"\n",
    "\n",
    "temporary_list_for_class_use_later[19].gender = \"Female\"\n",
    "temporary_list_for_class_use_later[19].race = \"Caucasian\"\n",
    "\n",
    "for i in temporary_list_for_class_use_later:\n",
    "    if i.race == \"Caucasian\" and i.gender == \"Male\":\n",
    "        i.target = 0\n",
    "    elif i.race == \"Caucasian\" and i.gender == \"Female\":\n",
    "        i.target = 1\n",
    "    elif i.race == \"Not Caucasian\" and i.gender == \"Male\":\n",
    "        i.target = 2\n",
    "    elif i.race == \"Not Caucasian\" and i.gender == \"Female\":\n",
    "        i.target = 3\n"
   ],
   "metadata": {
    "collapsed": false,
    "pycharm": {
     "name": "#%%\n"
    }
   }
  },
  {
   "cell_type": "code",
   "execution_count": 10,
   "outputs": [
    {
     "name": "stdout",
     "output_type": "stream",
     "text": [
      "[[0.90980392 0.90980392 0.90980392 ... 0.52941176 0.52941176 0.52941176]\n",
      " [0.91372549 0.91372549 0.91372549 ... 0.53333333 0.53333333 0.53333333]\n",
      " [0.91372549 0.91372549 0.91372549 ... 0.56470588 0.56470588 0.56470588]\n",
      " ...\n",
      " [0.92156863 0.92156863 0.92156863 ... 0.75294118 0.75294118 0.75294118]\n",
      " [0.89803922 0.89803922 0.89803922 ... 0.72156863 0.72156863 0.72156863]\n",
      " [0.91372549 0.91372549 0.91372549 ... 0.83921569 0.83921569 0.83921569]]\n"
     ]
    }
   ],
   "source": [
    "Categories =[\"Male Cauc\", \"Female Cauc\", \"Male Not Cauc\", \"Female Not Cauc\"]\n",
    "vector_array = []\n",
    "target_arr = []\n",
    "print(temporary_list_for_class_use_later[0].list_of_vector_array)\n",
    "for i in temporary_list_for_class_use_later:\n",
    "    for j in i.list_of_vector_array:\n",
    "        vector_array.append(j)\n",
    "        target_arr.append(i.target)\n",
    "\n",
    "flat_data = np.array(vector_array)\n",
    "target=np.array(target_arr)"
   ],
   "metadata": {
    "collapsed": false,
    "pycharm": {
     "name": "#%%\n"
    }
   }
  },
  {
   "cell_type": "code",
   "execution_count": 11,
   "outputs": [
    {
     "data": {
      "text/plain": "            0         1         2         3         4         5         6  \\\n0    0.909804  0.909804  0.909804  0.909804  0.913725  0.913725  0.913725   \n1    0.913725  0.913725  0.913725  0.913725  0.913725  0.913725  0.913725   \n2    0.913725  0.913725  0.913725  0.913725  0.913725  0.913725  0.913725   \n3    0.913725  0.913725  0.913725  0.913725  0.913725  0.913725  0.913725   \n4    0.913725  0.913725  0.913725  0.913725  0.913725  0.913725  0.913725   \n..        ...       ...       ...       ...       ...       ...       ...   \n570  0.160784  0.160784  0.160784  0.160784  0.149020  0.149020  0.149020   \n571  0.156863  0.156863  0.156863  0.156863  0.164706  0.164706  0.164706   \n572  0.149020  0.149020  0.149020  0.149020  0.164706  0.164706  0.164706   \n573  0.188235  0.188235  0.188235  0.188235  0.188235  0.188235  0.188235   \n574  0.054902  0.054902  0.054902  0.054902  0.105882  0.105882  0.105882   \n\n            7         8         9  ...     41207     41208     41209  \\\n0    0.913725  0.913725  0.913725  ...  0.549020  0.545098  0.545098   \n1    0.913725  0.913725  0.913725  ...  0.537255  0.533333  0.533333   \n2    0.913725  0.913725  0.913725  ...  0.576471  0.564706  0.564706   \n3    0.913725  0.913725  0.913725  ...  0.560784  0.552941  0.552941   \n4    0.913725  0.913725  0.913725  ...  0.584314  0.576471  0.576471   \n..        ...       ...       ...  ...       ...       ...       ...   \n570  0.149020  0.164706  0.164706  ...  0.443137  0.439216  0.439216   \n571  0.164706  0.160784  0.160784  ...  0.439216  0.443137  0.443137   \n572  0.164706  0.164706  0.164706  ...  0.439216  0.443137  0.443137   \n573  0.188235  0.172549  0.172549  ...  0.447059  0.443137  0.443137   \n574  0.105882  0.062745  0.062745  ...  0.411765  0.337255  0.337255   \n\n        41210     41211     41212     41213     41214     41215  Target  \n0    0.545098  0.545098  0.529412  0.529412  0.529412  0.529412       0  \n1    0.533333  0.533333  0.533333  0.533333  0.533333  0.533333       0  \n2    0.564706  0.564706  0.564706  0.564706  0.564706  0.564706       0  \n3    0.552941  0.552941  0.556863  0.556863  0.556863  0.556863       0  \n4    0.576471  0.576471  0.576471  0.576471  0.576471  0.576471       0  \n..        ...       ...       ...       ...       ...       ...     ...  \n570  0.439216  0.439216  0.439216  0.439216  0.439216  0.439216       1  \n571  0.443137  0.443137  0.443137  0.443137  0.443137  0.443137       1  \n572  0.443137  0.443137  0.439216  0.439216  0.439216  0.439216       1  \n573  0.443137  0.443137  0.447059  0.447059  0.447059  0.447059       1  \n574  0.337255  0.337255  0.333333  0.333333  0.333333  0.333333       1  \n\n[575 rows x 41217 columns]",
      "text/html": "<div>\n<style scoped>\n    .dataframe tbody tr th:only-of-type {\n        vertical-align: middle;\n    }\n\n    .dataframe tbody tr th {\n        vertical-align: top;\n    }\n\n    .dataframe thead th {\n        text-align: right;\n    }\n</style>\n<table border=\"1\" class=\"dataframe\">\n  <thead>\n    <tr style=\"text-align: right;\">\n      <th></th>\n      <th>0</th>\n      <th>1</th>\n      <th>2</th>\n      <th>3</th>\n      <th>4</th>\n      <th>5</th>\n      <th>6</th>\n      <th>7</th>\n      <th>8</th>\n      <th>9</th>\n      <th>...</th>\n      <th>41207</th>\n      <th>41208</th>\n      <th>41209</th>\n      <th>41210</th>\n      <th>41211</th>\n      <th>41212</th>\n      <th>41213</th>\n      <th>41214</th>\n      <th>41215</th>\n      <th>Target</th>\n    </tr>\n  </thead>\n  <tbody>\n    <tr>\n      <th>0</th>\n      <td>0.909804</td>\n      <td>0.909804</td>\n      <td>0.909804</td>\n      <td>0.909804</td>\n      <td>0.913725</td>\n      <td>0.913725</td>\n      <td>0.913725</td>\n      <td>0.913725</td>\n      <td>0.913725</td>\n      <td>0.913725</td>\n      <td>...</td>\n      <td>0.549020</td>\n      <td>0.545098</td>\n      <td>0.545098</td>\n      <td>0.545098</td>\n      <td>0.545098</td>\n      <td>0.529412</td>\n      <td>0.529412</td>\n      <td>0.529412</td>\n      <td>0.529412</td>\n      <td>0</td>\n    </tr>\n    <tr>\n      <th>1</th>\n      <td>0.913725</td>\n      <td>0.913725</td>\n      <td>0.913725</td>\n      <td>0.913725</td>\n      <td>0.913725</td>\n      <td>0.913725</td>\n      <td>0.913725</td>\n      <td>0.913725</td>\n      <td>0.913725</td>\n      <td>0.913725</td>\n      <td>...</td>\n      <td>0.537255</td>\n      <td>0.533333</td>\n      <td>0.533333</td>\n      <td>0.533333</td>\n      <td>0.533333</td>\n      <td>0.533333</td>\n      <td>0.533333</td>\n      <td>0.533333</td>\n      <td>0.533333</td>\n      <td>0</td>\n    </tr>\n    <tr>\n      <th>2</th>\n      <td>0.913725</td>\n      <td>0.913725</td>\n      <td>0.913725</td>\n      <td>0.913725</td>\n      <td>0.913725</td>\n      <td>0.913725</td>\n      <td>0.913725</td>\n      <td>0.913725</td>\n      <td>0.913725</td>\n      <td>0.913725</td>\n      <td>...</td>\n      <td>0.576471</td>\n      <td>0.564706</td>\n      <td>0.564706</td>\n      <td>0.564706</td>\n      <td>0.564706</td>\n      <td>0.564706</td>\n      <td>0.564706</td>\n      <td>0.564706</td>\n      <td>0.564706</td>\n      <td>0</td>\n    </tr>\n    <tr>\n      <th>3</th>\n      <td>0.913725</td>\n      <td>0.913725</td>\n      <td>0.913725</td>\n      <td>0.913725</td>\n      <td>0.913725</td>\n      <td>0.913725</td>\n      <td>0.913725</td>\n      <td>0.913725</td>\n      <td>0.913725</td>\n      <td>0.913725</td>\n      <td>...</td>\n      <td>0.560784</td>\n      <td>0.552941</td>\n      <td>0.552941</td>\n      <td>0.552941</td>\n      <td>0.552941</td>\n      <td>0.556863</td>\n      <td>0.556863</td>\n      <td>0.556863</td>\n      <td>0.556863</td>\n      <td>0</td>\n    </tr>\n    <tr>\n      <th>4</th>\n      <td>0.913725</td>\n      <td>0.913725</td>\n      <td>0.913725</td>\n      <td>0.913725</td>\n      <td>0.913725</td>\n      <td>0.913725</td>\n      <td>0.913725</td>\n      <td>0.913725</td>\n      <td>0.913725</td>\n      <td>0.913725</td>\n      <td>...</td>\n      <td>0.584314</td>\n      <td>0.576471</td>\n      <td>0.576471</td>\n      <td>0.576471</td>\n      <td>0.576471</td>\n      <td>0.576471</td>\n      <td>0.576471</td>\n      <td>0.576471</td>\n      <td>0.576471</td>\n      <td>0</td>\n    </tr>\n    <tr>\n      <th>...</th>\n      <td>...</td>\n      <td>...</td>\n      <td>...</td>\n      <td>...</td>\n      <td>...</td>\n      <td>...</td>\n      <td>...</td>\n      <td>...</td>\n      <td>...</td>\n      <td>...</td>\n      <td>...</td>\n      <td>...</td>\n      <td>...</td>\n      <td>...</td>\n      <td>...</td>\n      <td>...</td>\n      <td>...</td>\n      <td>...</td>\n      <td>...</td>\n      <td>...</td>\n      <td>...</td>\n    </tr>\n    <tr>\n      <th>570</th>\n      <td>0.160784</td>\n      <td>0.160784</td>\n      <td>0.160784</td>\n      <td>0.160784</td>\n      <td>0.149020</td>\n      <td>0.149020</td>\n      <td>0.149020</td>\n      <td>0.149020</td>\n      <td>0.164706</td>\n      <td>0.164706</td>\n      <td>...</td>\n      <td>0.443137</td>\n      <td>0.439216</td>\n      <td>0.439216</td>\n      <td>0.439216</td>\n      <td>0.439216</td>\n      <td>0.439216</td>\n      <td>0.439216</td>\n      <td>0.439216</td>\n      <td>0.439216</td>\n      <td>1</td>\n    </tr>\n    <tr>\n      <th>571</th>\n      <td>0.156863</td>\n      <td>0.156863</td>\n      <td>0.156863</td>\n      <td>0.156863</td>\n      <td>0.164706</td>\n      <td>0.164706</td>\n      <td>0.164706</td>\n      <td>0.164706</td>\n      <td>0.160784</td>\n      <td>0.160784</td>\n      <td>...</td>\n      <td>0.439216</td>\n      <td>0.443137</td>\n      <td>0.443137</td>\n      <td>0.443137</td>\n      <td>0.443137</td>\n      <td>0.443137</td>\n      <td>0.443137</td>\n      <td>0.443137</td>\n      <td>0.443137</td>\n      <td>1</td>\n    </tr>\n    <tr>\n      <th>572</th>\n      <td>0.149020</td>\n      <td>0.149020</td>\n      <td>0.149020</td>\n      <td>0.149020</td>\n      <td>0.164706</td>\n      <td>0.164706</td>\n      <td>0.164706</td>\n      <td>0.164706</td>\n      <td>0.164706</td>\n      <td>0.164706</td>\n      <td>...</td>\n      <td>0.439216</td>\n      <td>0.443137</td>\n      <td>0.443137</td>\n      <td>0.443137</td>\n      <td>0.443137</td>\n      <td>0.439216</td>\n      <td>0.439216</td>\n      <td>0.439216</td>\n      <td>0.439216</td>\n      <td>1</td>\n    </tr>\n    <tr>\n      <th>573</th>\n      <td>0.188235</td>\n      <td>0.188235</td>\n      <td>0.188235</td>\n      <td>0.188235</td>\n      <td>0.188235</td>\n      <td>0.188235</td>\n      <td>0.188235</td>\n      <td>0.188235</td>\n      <td>0.172549</td>\n      <td>0.172549</td>\n      <td>...</td>\n      <td>0.447059</td>\n      <td>0.443137</td>\n      <td>0.443137</td>\n      <td>0.443137</td>\n      <td>0.443137</td>\n      <td>0.447059</td>\n      <td>0.447059</td>\n      <td>0.447059</td>\n      <td>0.447059</td>\n      <td>1</td>\n    </tr>\n    <tr>\n      <th>574</th>\n      <td>0.054902</td>\n      <td>0.054902</td>\n      <td>0.054902</td>\n      <td>0.054902</td>\n      <td>0.105882</td>\n      <td>0.105882</td>\n      <td>0.105882</td>\n      <td>0.105882</td>\n      <td>0.062745</td>\n      <td>0.062745</td>\n      <td>...</td>\n      <td>0.411765</td>\n      <td>0.337255</td>\n      <td>0.337255</td>\n      <td>0.337255</td>\n      <td>0.337255</td>\n      <td>0.333333</td>\n      <td>0.333333</td>\n      <td>0.333333</td>\n      <td>0.333333</td>\n      <td>1</td>\n    </tr>\n  </tbody>\n</table>\n<p>575 rows × 41217 columns</p>\n</div>"
     },
     "metadata": {},
     "output_type": "display_data"
    }
   ],
   "source": [
    "df=pd.DataFrame(flat_data) #dataframe\n",
    "df['Target']=target\n",
    "x=df.iloc[:,:-1] #feature array\n",
    "y=df.iloc[:,-1] #label data y = df['Target']\n",
    "display(df)"
   ],
   "metadata": {
    "collapsed": false,
    "pycharm": {
     "name": "#%%\n"
    }
   }
  },
  {
   "cell_type": "code",
   "execution_count": 12,
   "outputs": [
    {
     "name": "stdout",
     "output_type": "stream",
     "text": [
      "Stored 'x' (DataFrame)\n",
      "Stored 'y' (Series)\n"
     ]
    }
   ],
   "source": [
    "%store x\n",
    "%store y"
   ],
   "metadata": {
    "collapsed": false,
    "pycharm": {
     "name": "#%%\n"
    }
   }
  }
 ],
 "metadata": {
  "kernelspec": {
   "display_name": "Python 3",
   "language": "python",
   "name": "python3"
  },
  "language_info": {
   "codemirror_mode": {
    "name": "ipython",
    "version": 2
   },
   "file_extension": ".py",
   "mimetype": "text/x-python",
   "name": "python",
   "nbconvert_exporter": "python",
   "pygments_lexer": "ipython2",
   "version": "2.7.6"
  }
 },
 "nbformat": 4,
 "nbformat_minor": 0
}