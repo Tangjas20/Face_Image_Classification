{
 "cells": [
  {
   "cell_type": "code",
   "execution_count": 4,
   "id": "d6db3733",
   "metadata": {},
   "outputs": [],
   "source": [
    "import os\n",
    "import numpy as np\n",
    "from skimage import data, io, segmentation, color, data\n",
    "import matplotlib.pyplot as plt\n",
    "from skimage.transform import resize\n",
    "%store -r x\n",
    "%store -r y"
   ]
  },
  {
   "cell_type": "code",
   "execution_count": 5,
   "id": "bbd3ff4f",
   "metadata": {},
   "outputs": [],
   "source": [
    "from sklearn.linear_model import LogisticRegression\n",
    "clf = LogisticRegression(random_state=0, max_iter=10000)"
   ]
  },
  {
   "cell_type": "code",
   "execution_count": 9,
   "id": "f0322aeb",
   "metadata": {},
   "outputs": [
    {
     "name": "stdout",
     "output_type": "stream",
     "text": [
      "Splitted Successfully\n",
      "The Model is trained well with the given images\n"
     ]
    }
   ],
   "source": [
    "from sklearn.model_selection import train_test_split\n",
    "x_train,x_test,y_train,y_test=train_test_split(x,y, test_size = 0.9, random_state=42, stratify = y)\n",
    "print('Splitted Successfully')\n",
    "clf.fit(x_train,y_train)\n",
    "print('The Model is trained well with the given images')"
   ]
  },
  {
   "cell_type": "code",
   "execution_count": 10,
   "id": "c5527af4",
   "metadata": {},
   "outputs": [
    {
     "name": "stdout",
     "output_type": "stream",
     "text": [
      "The predicted Data is:\n",
      "[2 2 1 0 0 1 2 0 2 0 1 0 1 0 0 1 1 0 0 0 0 0 0 0 1 0 0 1 0 0 1 0 1 2 1 0 0\n",
      " 1 0 2 0 0 0 0 0 2 1 0 0 0 0 0 0 0 0 2 1 0 0 0 1 0 0 1 0 0 0 2 0 0 0 1 2 1\n",
      " 0 0 1 0 0 0 0 0 0 2 0 0 0 0 0 0 1 0 0 2 0 2 2 2 0 2 1 0 0 1 2 0 0 0 0 0 0\n",
      " 2 2 1 2 0 0 0 1 0 1 0 0 2 2 0 2 0 1 0 1 2 0 2 0 0 0 0 2 1 1 0 0 1 2 0 0 0\n",
      " 0 2 2 0 0 2 0 2 1 0 2 1 0 2 0 0 0 0 0 0 0 0 1 0 0 0 0 1 0 0 0 0 0 0 0 0 0\n",
      " 0 2 0 0 0 0 0 0 2 0 0 0 2 1 1 0 0 0 0 0 0 0 0 1 0 0 0 1 0 0 1 0 2 0 0 0 0\n",
      " 0 0 0 1 1 0 1 0 0 1 1 0 0 0 2 1 0 0 1 0 2 1 1 2 0 2 0 1 0 1 0 0 1 0 1 0 1\n",
      " 0 0 1 1 0 2 1 0 2 0 0 1 0 0 0 0 1 0 0 0 0 0 0 0 1 0 1 0 1 0 0 0 0 0 0 2 0\n",
      " 0 1 1 2 1 0 0 2 1 1 1 2 2 1 0 0 0 2 0 1 2 0 0 0 0 1 0 0 1 1 1 0 0 1 0 2 0\n",
      " 0 0 2 1 0 1 0 1 0 2 0 0 0 2 0 1 0 0 0 2 0 0 0 1 1 2 1 2 1 0 0 0 2 0 0 0 2\n",
      " 1 0 2 0 0 0 2 0 0 1 0 0 1 2 0 0 0 0 0 0 1 0 0 0 1 0 0 2 0 1 1 0 0 0 0 0 0\n",
      " 0 0 2 2 0 1 2 0 0 1 1 0 0 0 2 2 0 0 1 0 0 0 1 0 0 0 0 0 0 2 0 0 0 1 0 0 0\n",
      " 0 0 2 0 0 0 1 0 1 0 0 0 1 2 0 2 0 1 0 0 2 2 0 0 0 1 0 0 0 0 0 0 0 2 1 0 0\n",
      " 2 0 0 2 1 2 0 0 0 0 2 1 2 1 0 1 1 1 0 2 0 0 0 0 0 1 2 0 0 0 0 0 0 0 0 0 0]\n",
      "The actual data is:\n",
      "[2 2 1 0 0 1 2 0 2 0 2 0 1 0 0 1 1 0 0 0 0 0 0 0 2 0 0 1 0 0 1 0 1 2 1 0 0\n",
      " 1 0 2 0 0 0 0 0 2 2 0 0 0 0 0 0 0 0 2 1 0 0 0 1 0 0 2 0 0 0 2 0 0 0 0 2 1\n",
      " 0 0 1 0 0 0 0 0 0 2 1 0 0 0 0 0 1 0 0 2 0 2 2 2 0 2 2 0 0 1 2 0 0 2 0 0 0\n",
      " 2 2 2 2 0 0 0 1 0 1 0 0 2 2 0 2 0 1 0 1 2 0 2 0 0 0 0 2 1 0 0 0 1 2 0 0 0\n",
      " 0 2 2 0 0 2 0 2 1 0 2 1 0 2 0 0 0 1 0 0 0 0 2 0 0 0 0 2 0 1 0 0 2 0 0 1 0\n",
      " 0 2 0 0 0 0 0 0 2 0 0 0 2 1 1 0 0 0 0 0 0 0 0 1 0 0 0 1 0 0 1 0 2 0 0 0 0\n",
      " 0 0 0 0 1 0 1 0 0 1 2 0 0 0 2 1 0 0 1 0 2 1 2 2 0 2 0 1 0 1 0 0 2 0 1 0 1\n",
      " 0 0 1 1 0 2 1 0 2 0 0 1 0 0 0 0 1 0 0 2 2 0 1 0 1 0 2 0 1 0 0 0 0 0 0 2 0\n",
      " 0 2 1 2 0 0 0 2 1 2 2 2 2 1 0 0 0 2 0 1 2 0 0 0 0 1 0 0 1 2 1 0 0 1 0 2 0\n",
      " 0 0 2 2 0 1 0 1 0 2 0 0 0 2 0 1 0 0 0 2 0 0 0 1 1 2 1 2 1 0 0 0 2 0 0 0 2\n",
      " 2 0 2 0 0 0 2 0 0 2 0 0 1 2 0 0 0 0 0 0 0 2 0 0 1 0 0 2 0 2 1 0 0 2 0 0 0\n",
      " 0 0 2 2 0 1 2 0 0 1 1 0 0 0 2 2 0 0 1 0 0 0 1 0 0 0 2 0 0 2 0 0 0 1 0 0 0\n",
      " 0 0 2 0 0 0 1 0 1 0 0 0 1 2 0 2 0 2 0 0 2 2 0 0 0 1 0 0 0 0 0 0 0 2 1 0 0\n",
      " 2 0 2 2 1 2 0 0 1 0 2 2 2 0 0 1 0 1 0 2 0 0 0 0 0 1 2 0 0 0 0 0 0 0 0 0 0]\n",
      "0.916988416988417\n",
      "0.916988416988417\n"
     ]
    }
   ],
   "source": [
    "from sklearn.metrics import accuracy_score\n",
    "\n",
    "y_pred = clf.predict(x_test)\n",
    "print(\"The predicted Data is:\")\n",
    "print(y_pred)\n",
    "print(\"The actual data is:\")\n",
    "print(np.array(y_test))\n",
    "#print(f\"the model is {accuracy_score(y_pred, y_test)*100}\")\n",
    "print(accuracy_score(y_test, y_pred))\n",
    "print(np.mean(y_pred == y_test))"
   ]
  },
  {
   "cell_type": "code",
   "execution_count": null,
   "id": "29e3c146",
   "metadata": {},
   "outputs": [],
   "source": []
  }
 ],
 "metadata": {
  "kernelspec": {
   "display_name": "Python 3 (ipykernel)",
   "language": "python",
   "name": "python3"
  },
  "language_info": {
   "codemirror_mode": {
    "name": "ipython",
    "version": 3
   },
   "file_extension": ".py",
   "mimetype": "text/x-python",
   "name": "python",
   "nbconvert_exporter": "python",
   "pygments_lexer": "ipython3",
   "version": "3.9.7"
  }
 },
 "nbformat": 4,
 "nbformat_minor": 5
}
