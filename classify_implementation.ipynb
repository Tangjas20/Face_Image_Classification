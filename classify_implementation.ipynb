{
 "cells": [
  {
   "cell_type": "code",
   "execution_count": 1,
   "metadata": {
    "collapsed": true
   },
   "outputs": [],
   "source": [
    "import numpy as np\n",
    "from skimage import data, io, segmentation, color, data\n",
    "\n",
    "from skimage.future import graph\n",
    "import os\n",
    "import matplotlib.pyplot as plt"
   ]
  },
  {
   "cell_type": "code",
   "execution_count": 2,
   "outputs": [],
   "source": [
    "#This sorts a given list into alphanumeric order\n",
    "import re\n",
    "def sorted_nicely(l):\n",
    "    \"\"\" Sorts the given iterable in the way that is expected.\n",
    "    Required arguments:\n",
    "    l -- The iterable to be sorted.\n",
    "    \"\"\"\n",
    "    convert = lambda text: int(text) if text.isdigit() else text\n",
    "    alphanum_key = lambda key: [convert(c) for c in re.split('([0-9]+)', key)]\n",
    "    return sorted(l, key = alphanum_key)"
   ],
   "metadata": {
    "collapsed": false,
    "pycharm": {
     "name": "#%%\n"
    }
   }
  },
  {
   "cell_type": "code",
   "execution_count": 3,
   "outputs": [
    {
     "name": "stdout",
     "output_type": "stream",
     "text": [
      "['1s', '1t', '1h', '1o', '1f', '1a', '1r', '1g', '1n', '1i', '1l', '1k', '1b', '1e', '1p', '1d', '1c', '1j', '1m', '1q']\n"
     ]
    }
   ],
   "source": [
    "#This block will get the classification folder names and sort them into alphanumeric so it can be used later on for making classes.\n",
    "current_directory = os.getcwd()\n",
    "#print(current_directory)\n",
    "classification_file_directory = current_directory + \"/Classification_files\"\n",
    "classification_files_names = os.listdir(classification_file_directory)\n",
    "\n",
    "for i in classification_files_names:\n",
    "    if \".\" in i:\n",
    "        classification_files_names.remove(i)\n",
    "print(classification_files_names)"
   ],
   "metadata": {
    "collapsed": false,
    "pycharm": {
     "name": "#%%\n"
    }
   }
  },
  {
   "cell_type": "code",
   "execution_count": 4,
   "outputs": [
    {
     "name": "stdout",
     "output_type": "stream",
     "text": [
      "{'1s': ['1s000.pgm', '1s001.pgm', '1s003.pgm', '1s004.pgm', '1s005.pgm', '1s006.pgm', '1s007.pgm', '1s008.pgm', '1s009.pgm', '1s010.pgm', '1s011.pgm', '1s012.pgm', '1s013.pgm', '1s014.pgm', '1s015.pgm', '1s016.pgm', '1s017.pgm', '1s018.pgm', '1s019.pgm', '1s020.pgm', '1s021.pgm', '1s022.pgm', '1s023.pgm', '1s024.pgm', '1s025.pgm', '1s026.pgm', '1s027.pgm', '1s028.pgm', '1s029.pgm', '1s030.pgm', '1s031.pgm', '1s032.pgm', '1s033.pgm', '1s034.pgm', '1s035.pgm', '1s036.pgm', '1s037.pgm', '1s038.pgm', '1s039.pgm', '1s040.pgm', '1s041.pgm', '1s042.pgm', '1s043.pgm', '1s044.pgm', '1s045.pgm', '1s046.pgm', '1s047.pgm', '1s048.pgm'], '1t': ['1t000.pgm', '1t001.pgm', '1t002.pgm', '1t003.pgm', '1t004.pgm', '1t005.pgm', '1t006.pgm', '1t007.pgm', '1t008.pgm', '1t009.pgm', '1t010.pgm', '1t011.pgm', '1t012.pgm', '1t013.pgm', '1t014.pgm', '1t015.pgm', '1t016.pgm', '1t017.pgm', '1t018.pgm', '1t019.pgm', '1t020.pgm', '1t021.pgm', '1t022.pgm', '1t023.pgm', '1t034.pgm', '1t035.pgm', '1t036.pgm', '1t044.pgm', '1t045.pgm', '1t046.pgm', '1t047.pgm', '1t048.pgm', '1t049.pgm', '1t100.pgm'], '1h': ['1h002.pgm', '1h003.pgm', '1h004.pgm', '1h005.pgm', '1h006.pgm', '1h007.pgm', '1h008.pgm', '1h009.pgm', '1h010.pgm', '1h012.pgm', '1h014.pgm', '1h016.pgm', '1h018.pgm', '1h020.pgm', '1h022.pgm', '1h024.pgm', '1h026.pgm', '1h028.pgm', '1h030.pgm', '1h031.pgm', '1h032.pgm', '1h035.pgm'], '1o': ['1o000.pgm', '1o001.pgm', '1o004.pgm', '1o005.pgm', '1o006.pgm', '1o007.pgm', '1o008.pgm', '1o009.pgm', '1o010.pgm', '1o011.pgm', '1o012.pgm', '1o013.pgm', '1o014.pgm', '1o015.pgm', '1o019.pgm', '1o020.pgm', '1o021.pgm', '1o022.pgm', '1o023.pgm'], '1f': ['1f000.pgm', '1f005.pgm', '1f009.pgm', '1f012.pgm', '1f015.pgm', '1f018.pgm', '1f021.pgm', '1f024.pgm', '1f027.pgm', '1f030.pgm', '1f033.pgm', '1f037.pgm', '1f040.pgm', '1f044.pgm', '1f049.pgm', '1f051.pgm', '1f054.pgm', '1f056.pgm', '1f059.pgm', '1f062.pgm', '1f065.pgm', '1f068.pgm', '1f073.pgm'], '1a': ['1a000.pgm', '1a001.pgm', '1a002.pgm', '1a003.pgm', '1a004.pgm', '1a005.pgm', '1a006.pgm', '1a007.pgm', '1a008.pgm', '1a009.pgm', '1a010.pgm', '1a011.pgm', '1a012.pgm', '1a013.pgm', '1a014.pgm', '1a015.pgm', '1a016.pgm', '1a017.pgm', '1a018.pgm', '1a019.pgm', '1a020.pgm', '1a021.pgm', '1a022.pgm', '1a023.pgm', '1a024.pgm', '1a025.pgm', '1a026.pgm', '1a027.pgm', '1a028.pgm', '1a029.pgm', '1a030.pgm', '1a031.pgm', '1a032.pgm', '1a033.pgm', '1a034.pgm', '1a035.pgm', '1a041.pgm', '1a043.pgm'], '1r': ['1r006.pgm', '1r007.pgm', '1r008.pgm', '1r009.pgm', '1r010.pgm', '1r011.pgm', '1r012.pgm', '1r013.pgm', '1r014.pgm', '1r015.pgm', '1r016.pgm', '1r017.pgm', '1r018.pgm', '1r019.pgm', '1r020.pgm', '1r021.pgm', '1r022.pgm', '1r023.pgm', '1r024.pgm', '1r025.pgm', '1r026.pgm', '1r027.pgm', '1r028.pgm', '1r029.pgm', '1r030.pgm', '1r031.pgm', '1r032.pgm', '1r033.pgm', '1r034.pgm', '1r035.pgm', '1r036.pgm', '1r037.pgm', '1r038.pgm'], '1g': ['1g004.pgm', '1g006.pgm', '1g008.pgm', '1g009.pgm', '1g010.pgm', '1g011.pgm', '1g012.pgm', '1g014.pgm', '1g021.pgm', '1g022.pgm', '1g023.pgm', '1g024.pgm', '1g025.pgm', '1g026.pgm', '1g027.pgm', '1g029.pgm', '1g031.pgm', '1g036.pgm', '1g040.pgm'], '1n': ['1n000.pgm', '1n002.pgm', '1n003.pgm', '1n004.pgm', '1n005.pgm', '1n006.pgm', '1n007.pgm', '1n008.pgm', '1n009.pgm', '1n010.pgm', '1n011.pgm', '1n012.pgm', '1n013.pgm', '1n014.pgm', '1n015.pgm', '1n016.pgm', '1n022.pgm', '1n023.pgm', '1n024.pgm', '1n025.pgm', '1n026.pgm', '1n027.pgm', '1n028.pgm', '1n029.pgm', '1n030.pgm', '1n031.pgm', '1n032.pgm', '1n033.pgm', '1n034.pgm', '1n035.pgm'], '1i': ['1i000.pgm', '1i002.pgm', '1i003.pgm', '1i005.pgm', '1i006.pgm', '1i007.pgm', '1i008.pgm', '1i009.pgm', '1i010.pgm', '1i011.pgm', '1i012.pgm', '1i013.pgm', '1i014.pgm', '1i020.pgm', '1i021.pgm', '1i022.pgm', '1i027.pgm', '1i028.pgm', '1i029.pgm', '1i030.pgm'], '1l': ['1l000.pgm', '1l002.pgm', '1l003.pgm', '1l004.pgm', '1l006.pgm', '1l008.pgm', '1l009.pgm', '1l011.pgm', '1l018.pgm', '1l019.pgm', '1l020.pgm', '1l021.pgm', '1l026.pgm', '1l028.pgm', '1l030.pgm', '1l031.pgm', '1l033.pgm', '1l034.pgm', '1l037.pgm', '1l038.pgm', '1l039.pgm', '1l040.pgm', '1l042.pgm', '1l043.pgm', '1l044.pgm', '1l045.pgm', '1l046.pgm', '1l047.pgm', '1l049.pgm', '1l050.pgm', '1l051.pgm', '1l053.pgm', '1l057.pgm', '1l061.pgm'], '1k': ['1k001.pgm', '1k002.pgm', '1k003.pgm', '1k004.pgm', '1k011.pgm', '1k014.pgm', '1k016.pgm', '1k019.pgm', '1k020.pgm', '1k022.pgm', '1k024.pgm', '1k025.pgm', '1k026.pgm', '1k028.pgm', '1k030.pgm', '1k033.pgm', '1k035.pgm', '1k037.pgm', '1k040.pgm', '1k041.pgm', '1k043.pgm', '1k044.pgm', '1k045.pgm', '1k047.pgm', '1k048.pgm', '1k049.pgm', '1k050.pgm', '1k051.pgm', '1k052.pgm', '1k053.pgm', '1k054.pgm', '1k055.pgm', '1k056.pgm', '1k059.pgm'], '1b': ['1b000.pgm', '1b003.pgm', '1b008.pgm', '1b011.pgm', '1b014.pgm', '1b015.pgm', '1b016.pgm', '1b018.pgm', '1b024.pgm', '1b028.pgm', '1b032.pgm', '1b035.pgm', '1b038.pgm', '1b039.pgm', '1b040.pgm', '1b044.pgm', '1b048.pgm', '1b051.pgm', '1b054.pgm', '1b056.pgm', '1b060.pgm', '1b064.pgm', '1b068.pgm', '1b072.pgm', '1b076.pgm', 'final00.pgm', 'final01.pgm', 'final02.pgm', 'final03.pgm', 'final04.pgm', 'final05.pgm', 'final06.pgm', 'final07.pgm', 'final08.pgm', 'final09.pgm'], '1e': ['1e000.pgm', '1e001.pgm', '1e002.pgm', '1e003.pgm', '1e004.pgm', '1e005.pgm', '1e006.pgm', '1e007.pgm', '1e008.pgm', '1e009.pgm', '1e010.pgm', '1e011.pgm', '1e012.pgm', '1e013.pgm', '1e014.pgm', '1e015.pgm', '1e016.pgm', '1e017.pgm', '1e018.pgm', '1e019.pgm', '1e020.pgm', '1e021.pgm', '1e022.pgm', '1e023.pgm', '1e024.pgm', '1e025.pgm'], '1p': ['1p000.pgm', '1p001.pgm', '1p002.pgm', '1p003.pgm', '1p004.pgm', '1p005.pgm', '1p006.pgm', '1p007.pgm', '1p008.pgm', '1p009.pgm', '1p010.pgm', '1p011.pgm', '1p012.pgm', '1p013.pgm', '1p014.pgm', '1p015.pgm', '1p016.pgm', '1p017.pgm', '1p018.pgm', '1p019.pgm', '1p020.pgm', '1p021.pgm', '1p022.pgm', '1p023.pgm', '1p024.pgm', '1p025.pgm'], '1d': ['1d000.pgm', '1d004.pgm', '1d008.pgm', '1d010.pgm', '1d012.pgm', '1d013.pgm', '1d014.pgm', '1d015.pgm', '1d016.pgm', '1d017.pgm', '1d018.pgm', '1d019.pgm', '1d020.pgm', '1d022.pgm', '1d023.pgm', '1d024.pgm', '1d027.pgm', '1d029.pgm', '1d031.pgm', '1d032.pgm', '1d033.pgm', '1d035.pgm', '1d037.pgm', '1d039.pgm'], '1c': ['1c000.pgm', '1c004.pgm', '1c007.pgm', '1c010.pgm', '1c013.pgm', '1c016.pgm', '1c018.pgm', '1c022.pgm', '1c025.pgm', '1c028.pgm', '1c032.pgm', '1c035.pgm', '1c037.pgm', '1c040.pgm', '1c043.pgm', '1c046.pgm', '1c049.pgm', '1c052.pgm', '1c054.pgm', '1c058.pgm', '1c060.pgm', '1c062.pgm', '1c063.pgm', '1c065.pgm', '1c066.pgm', '1c069.pgm'], '1j': ['1j000.pgm', '1j001.pgm', '1j005.pgm', '1j006.pgm', '1j007.pgm', '1j010.pgm', '1j018.pgm', '1j021.pgm', '1j024.pgm', '1j028.pgm', '1j029.pgm', '1j030.pgm', '1j034.pgm', '1j035.pgm', '1j038.pgm', '1j039.pgm', '1j040.pgm', '1j041.pgm', '1j042.pgm', '1j044.pgm', '1j045.pgm', '1j047.pgm', '1j048.pgm', '1j049.pgm', '1j050.pgm', '1j051.pgm', '1j052.pgm', '1j053.pgm', '1j054.pgm', '1j055.pgm', '1j056.pgm', '1j061.pgm'], '1m': ['1m000.pgm', '1m003.pgm', '1m007.pgm', '1m009.pgm', '1m010.pgm', '1m011.pgm', '1m013.pgm', '1m016.pgm', '1m017.pgm', '1m018.pgm', '1m019.pgm', '1m020.pgm', '1m022.pgm', '1m024.pgm', '1m026.pgm', '1m028.pgm', '1m030.pgm', '1m034.pgm', '1m036.pgm', '1m038.pgm', '1m040.pgm', '1m042.pgm', '1m044.pgm', '1m046.pgm', '1m048.pgm', '1m050.pgm'], '1q': ['1q001.pgm', '1q003.pgm', '1q005.pgm', '1q006.pgm', '1q007.pgm', '1q008.pgm', '1q009.pgm', '1q010.pgm', '1q011.pgm', '1q012.pgm', '1q013.pgm', '1q014.pgm', '1q015.pgm', '1q016.pgm', '1q017.pgm', '1q018.pgm', '1q019.pgm', '1q020.pgm', '1q021.pgm', '1q022.pgm', '1q023.pgm', '1q024.pgm', '1q025.pgm', '1q027.pgm', '1q030.pgm', '1q031.pgm']}\n"
     ]
    }
   ],
   "source": [
    "#This block will now take those file directories and find the underlying picture files\n",
    "image_dictionary = {}\n",
    "for folder_name in classification_files_names:\n",
    "    individual_image_files = classification_file_directory + \"/{}/face\".format(folder_name)\n",
    "    list_of_individual_images = os.listdir(individual_image_files)\n",
    "    image_dictionary[folder_name] = sorted_nicely(list_of_individual_images)\n",
    "\n",
    "#Now image_dictionary stores the key of the folder with the list of values in the folder\n",
    "#I did this so that we can iterate through it easily.\n",
    "print(image_dictionary)"
   ],
   "metadata": {
    "collapsed": false,
    "pycharm": {
     "name": "#%%\n"
    }
   }
  },
  {
   "cell_type": "code",
   "source": [
    "#Now we should set up a class with attributes that we will need in order to classify\n",
    "class Person():\n",
    "    name_of_person = None\n",
    "    list_of_vector_array = []\n",
    "    gender = None\n",
    "    race = None\n",
    "\n",
    "    def __init__(self, name, list_of_vector_array):\n",
    "        self.name_of_person = name\n",
    "        self.list_of_vector_array = list_of_vector_array\n",
    "\n"
   ],
   "metadata": {
    "collapsed": false,
    "pycharm": {
     "name": "#%%\n"
    }
   },
   "execution_count": 11,
   "outputs": []
  },
  {
   "cell_type": "code",
   "execution_count": 14,
   "outputs": [],
   "source": [
    "#An example of using this could be\n",
    "alphabetical_keys = sorted_nicely(list(image_dictionary))\n",
    "temporary_list_for_class_use_later = []\n",
    "for key in alphabetical_keys:\n",
    "\n",
    "    image_list = []\n",
    "    for i in image_dictionary[key]:\n",
    "        vector_image = io.imread(classification_file_directory + \"/{}/face/\".format(key) + i, as_gray=True)\n",
    "        image_list.append(vector_image)\n",
    "    person = Person(key, image_list)\n",
    "    temporary_list_for_class_use_later.append(person)\n",
    "#So Imread is the skimage thing we will be using to read the images. This cell is just a demonstration on how to use the key values in the dictionary made\n",
    "#This makes it so that we can read all the images easily\n",
    "#Note you should run the file in your own IDE because the CWD will change and it won't be Jason Tang\n"
   ],
   "metadata": {
    "collapsed": false,
    "pycharm": {
     "name": "#%%\n"
    }
   }
  },
  {
   "cell_type": "code",
   "execution_count": 17,
   "outputs": [
    {
     "name": "stdout",
     "output_type": "stream",
     "text": [
      "[array([[232, 233, 233, ..., 233, 233, 233],\n",
      "       [233, 233, 233, ..., 233, 233, 233],\n",
      "       [233, 233, 233, ..., 233, 233, 233],\n",
      "       ...,\n",
      "       [165, 176, 193, ..., 146, 143, 140],\n",
      "       [ 91, 112, 142, ..., 140, 141, 139],\n",
      "       [ 64,  99, 122, ..., 140, 139, 135]], dtype=uint8), array([[233, 233, 233, ..., 233, 233, 233],\n",
      "       [233, 233, 233, ..., 233, 233, 233],\n",
      "       [232, 233, 233, ..., 233, 232, 231],\n",
      "       ...,\n",
      "       [189, 201, 203, ..., 144, 141, 141],\n",
      "       [178, 196, 198, ..., 141, 137, 139],\n",
      "       [103, 134, 158, ..., 137, 136, 136]], dtype=uint8), array([[233, 233, 233, ..., 233, 233, 232],\n",
      "       [233, 233, 233, ..., 233, 233, 233],\n",
      "       [233, 232, 233, ..., 233, 233, 233],\n",
      "       ...,\n",
      "       [205, 207, 204, ..., 160, 156, 154],\n",
      "       [205, 205, 200, ..., 156, 151, 153],\n",
      "       [203, 205, 193, ..., 147, 144, 144]], dtype=uint8), array([[233, 233, 233, ..., 233, 233, 232],\n",
      "       [233, 233, 233, ..., 233, 233, 233],\n",
      "       [233, 233, 233, ..., 233, 233, 233],\n",
      "       ...,\n",
      "       [192, 203, 206, ..., 157, 155, 154],\n",
      "       [196, 203, 207, ..., 151, 149, 147],\n",
      "       [194, 203, 205, ..., 143, 141, 142]], dtype=uint8), array([[233, 233, 233, ..., 233, 233, 232],\n",
      "       [233, 233, 233, ..., 233, 233, 233],\n",
      "       [233, 233, 233, ..., 233, 233, 233],\n",
      "       ...,\n",
      "       [184, 192, 203, ..., 168, 163, 162],\n",
      "       [192, 203, 206, ..., 158, 156, 153],\n",
      "       [196, 203, 206, ..., 149, 147, 147]], dtype=uint8), array([[233, 233, 233, ..., 233, 233, 233],\n",
      "       [233, 233, 233, ..., 233, 233, 233],\n",
      "       [233, 233, 233, ..., 233, 233, 233],\n",
      "       ...,\n",
      "       [196, 201, 203, ..., 182, 179, 176],\n",
      "       [190, 198, 200, ..., 179, 176, 173],\n",
      "       [189, 196, 201, ..., 165, 163, 162]], dtype=uint8), array([[233, 233, 233, ..., 232, 233, 233],\n",
      "       [233, 233, 232, ..., 233, 233, 232],\n",
      "       [233, 233, 233, ..., 233, 233, 233],\n",
      "       ...,\n",
      "       [ 52, 126, 172, ..., 183, 179, 177],\n",
      "       [ 51, 124, 168, ..., 181, 177, 177],\n",
      "       [ 42, 108, 156, ..., 168, 164, 163]], dtype=uint8), array([[233, 233, 233, ..., 233, 233, 233],\n",
      "       [233, 233, 233, ..., 233, 233, 233],\n",
      "       [233, 233, 233, ..., 233, 233, 233],\n",
      "       ...,\n",
      "       [ 93, 156, 184, ..., 185, 179, 178],\n",
      "       [ 72, 140, 176, ..., 172, 169, 167],\n",
      "       [ 72, 139, 176, ..., 161, 160, 157]], dtype=uint8), array([[233, 233, 233, ..., 233, 233, 233],\n",
      "       [233, 233, 233, ..., 233, 233, 233],\n",
      "       [233, 233, 233, ..., 233, 233, 233],\n",
      "       ...,\n",
      "       [ 93, 143, 175, ..., 187, 184, 179],\n",
      "       [ 73, 139, 172, ..., 176, 172, 167],\n",
      "       [ 71, 139, 175, ..., 164, 160, 157]], dtype=uint8), array([[233, 233, 233, ..., 233, 233, 233],\n",
      "       [233, 233, 233, ..., 233, 233, 233],\n",
      "       [233, 233, 233, ..., 233, 233, 233],\n",
      "       ...,\n",
      "       [ 97, 143, 173, ..., 184, 179, 176],\n",
      "       [ 86, 144, 182, ..., 171, 168, 163],\n",
      "       [ 76, 141, 175, ..., 161, 156, 153]], dtype=uint8), array([[233, 233, 233, ..., 233, 233, 233],\n",
      "       [234, 233, 233, ..., 233, 233, 233],\n",
      "       [233, 233, 233, ..., 233, 233, 233],\n",
      "       ...,\n",
      "       [ 90, 132, 171, ..., 187, 184, 179],\n",
      "       [ 86, 130, 167, ..., 184, 179, 175],\n",
      "       [ 83, 133, 176, ..., 172, 167, 163]], dtype=uint8), array([[233, 233, 233, ..., 233, 233, 233],\n",
      "       [233, 233, 233, ..., 233, 233, 233],\n",
      "       [233, 233, 233, ..., 233, 233, 233],\n",
      "       ...,\n",
      "       [ 98, 156, 178, ..., 192, 193, 193],\n",
      "       [ 93, 153, 181, ..., 191, 191, 192],\n",
      "       [100, 143, 173, ..., 190, 189, 190]], dtype=uint8), array([[235, 233, 233, ..., 233, 233, 233],\n",
      "       [233, 233, 233, ..., 233, 233, 233],\n",
      "       [233, 233, 233, ..., 233, 233, 233],\n",
      "       ...,\n",
      "       [ 33,  50,  84, ..., 191, 190, 190],\n",
      "       [ 32,  50,  89, ..., 187, 186, 184],\n",
      "       [ 28,  51,  98, ..., 181, 176, 173]], dtype=uint8), array([[233, 234, 233, ..., 233, 233, 233],\n",
      "       [233, 233, 233, ..., 234, 233, 233],\n",
      "       [233, 233, 233, ..., 233, 233, 233],\n",
      "       ...,\n",
      "       [ 23,  32,  44, ..., 192, 193, 191],\n",
      "       [ 24,  33,  45, ..., 191, 191, 191],\n",
      "       [ 26,  34,  47, ..., 189, 190, 189]], dtype=uint8), array([[233, 233, 233, ..., 233, 233, 233],\n",
      "       [234, 233, 233, ..., 235, 233, 233],\n",
      "       [233, 233, 233, ..., 233, 233, 233],\n",
      "       ...,\n",
      "       [ 20,  23,  28, ..., 196, 193, 191],\n",
      "       [ 19,  23,  24, ..., 191, 193, 192],\n",
      "       [ 19,  20,  23, ..., 192, 191, 191]], dtype=uint8), array([[233, 233, 233, ..., 233, 234, 233],\n",
      "       [233, 233, 233, ..., 233, 233, 233],\n",
      "       [233, 233, 233, ..., 233, 233, 233],\n",
      "       ...,\n",
      "       [ 19,  23,  27, ..., 196, 194, 193],\n",
      "       [ 19,  23,  27, ..., 191, 191, 191],\n",
      "       [ 18,  22,  23, ..., 190, 191, 192]], dtype=uint8), array([[233, 233, 233, ..., 233, 233, 233],\n",
      "       [233, 233, 233, ..., 233, 233, 233],\n",
      "       [233, 233, 233, ..., 233, 233, 233],\n",
      "       ...,\n",
      "       [ 23,  28,  27, ..., 194, 196, 196],\n",
      "       [ 21,  24,  28, ..., 193, 194, 194],\n",
      "       [ 19,  23,  23, ..., 194, 194, 193]], dtype=uint8), array([[233, 234, 234, ..., 233, 234, 234],\n",
      "       [233, 233, 234, ..., 233, 234, 234],\n",
      "       [233, 233, 233, ..., 233, 233, 234],\n",
      "       ...,\n",
      "       [ 13,  18,  20, ..., 192, 192, 191],\n",
      "       [ 14,  14,  19, ..., 192, 193, 192],\n",
      "       [ 14,  14,  16, ..., 191, 191, 191]], dtype=uint8), array([[234, 233, 235, ..., 234, 233, 234],\n",
      "       [233, 233, 233, ..., 233, 234, 233],\n",
      "       [233, 233, 233, ..., 234, 234, 233],\n",
      "       ...,\n",
      "       [ 13,  15,  18, ..., 192, 192, 192],\n",
      "       [ 12,  14,  16, ..., 192, 193, 192],\n",
      "       [ 14,  14,  14, ..., 191, 191, 191]], dtype=uint8), array([[234, 235, 234, ..., 234, 235, 235],\n",
      "       [234, 235, 234, ..., 233, 235, 233],\n",
      "       [233, 234, 234, ..., 232, 234, 233],\n",
      "       ...,\n",
      "       [ 18,  15,  19, ..., 196, 196, 193],\n",
      "       [ 16,  16,  15, ..., 193, 196, 194],\n",
      "       [ 16,  13,  14, ..., 193, 196, 193]], dtype=uint8), array([[234, 233, 233, ..., 233, 235, 235],\n",
      "       [234, 233, 233, ..., 234, 234, 234],\n",
      "       [234, 233, 233, ..., 228, 233, 233],\n",
      "       ...,\n",
      "       [179, 139,  55, ..., 192, 191, 191],\n",
      "       [165, 114,  48, ..., 192, 192, 192],\n",
      "       [142, 101,  40, ..., 191, 192, 191]], dtype=uint8), array([[234, 235, 234, ..., 234, 235, 234],\n",
      "       [234, 234, 234, ..., 234, 233, 235],\n",
      "       [233, 235, 233, ..., 231, 234, 234],\n",
      "       ...,\n",
      "       [206, 204, 182, ..., 196, 194, 196],\n",
      "       [210, 206, 164, ..., 196, 196, 194],\n",
      "       [203, 197, 143, ..., 196, 192, 194]], dtype=uint8), array([[235, 234, 235, ..., 234, 233, 235],\n",
      "       [233, 235, 234, ..., 234, 234, 235],\n",
      "       [234, 234, 234, ..., 229, 234, 235],\n",
      "       ...,\n",
      "       [210, 210, 210, ..., 193, 194, 196],\n",
      "       [208, 211, 210, ..., 193, 193, 194],\n",
      "       [210, 210, 210, ..., 192, 194, 192]], dtype=uint8), array([[235, 235, 235, ..., 238, 234, 236],\n",
      "       [236, 235, 234, ..., 235, 236, 235],\n",
      "       [234, 236, 234, ..., 236, 235, 238],\n",
      "       ...,\n",
      "       [214, 214, 212, ..., 191, 192, 196],\n",
      "       [213, 213, 212, ..., 191, 192, 194],\n",
      "       [214, 214, 214, ..., 191, 191, 192]], dtype=uint8), array([[234, 235, 234, ..., 236, 235, 235],\n",
      "       [233, 236, 233, ..., 235, 235, 236],\n",
      "       [234, 235, 234, ..., 235, 235, 236],\n",
      "       ...,\n",
      "       [214, 214, 212, ..., 186, 191, 191],\n",
      "       [213, 213, 213, ..., 187, 191, 192],\n",
      "       [214, 215, 215, ..., 191, 194, 192]], dtype=uint8), array([[235, 236, 235, ..., 234, 233, 234],\n",
      "       [235, 234, 234, ..., 234, 234, 234],\n",
      "       [235, 236, 235, ..., 235, 235, 235],\n",
      "       ...,\n",
      "       [219, 214, 214, ..., 170, 183, 190],\n",
      "       [217, 214, 214, ..., 173, 187, 191],\n",
      "       [214, 213, 213, ..., 185, 191, 191]], dtype=uint8), array([[238, 235, 234, ..., 235, 234, 235],\n",
      "       [235, 234, 234, ..., 236, 235, 236],\n",
      "       [235, 233, 236, ..., 236, 234, 236],\n",
      "       ...,\n",
      "       [214, 214, 214, ..., 113, 170, 183],\n",
      "       [214, 214, 214, ..., 130, 171, 186],\n",
      "       [214, 214, 212, ..., 179, 185, 189]], dtype=uint8), array([[233, 235, 235, ..., 233, 235, 235],\n",
      "       [234, 235, 233, ..., 235, 236, 236],\n",
      "       [234, 235, 234, ..., 235, 236, 236],\n",
      "       ...,\n",
      "       [215, 214, 212, ..., 130, 171, 186],\n",
      "       [217, 214, 211, ..., 187, 189, 190],\n",
      "       [214, 212, 211, ..., 190, 191, 192]], dtype=uint8), array([[235, 235, 234, ..., 234, 234, 238],\n",
      "       [235, 234, 234, ..., 233, 233, 235],\n",
      "       [234, 236, 235, ..., 234, 234, 235],\n",
      "       ...,\n",
      "       [217, 218, 214, ..., 146,  91, 122],\n",
      "       [219, 218, 217, ..., 154, 148, 171],\n",
      "       [219, 218, 217, ..., 179, 189, 190]], dtype=uint8), array([[235, 234, 235, ..., 234, 234, 234],\n",
      "       [234, 235, 234, ..., 235, 234, 236],\n",
      "       [235, 235, 233, ..., 235, 234, 235],\n",
      "       ...,\n",
      "       [214, 214, 208, ..., 139,  91, 118],\n",
      "       [214, 213, 211, ..., 135, 107, 148],\n",
      "       [214, 214, 212, ..., 168, 177, 184]], dtype=uint8), array([[234, 234, 234, ..., 235, 234, 233],\n",
      "       [235, 234, 234, ..., 234, 234, 235],\n",
      "       [234, 235, 234, ..., 235, 235, 236],\n",
      "       ...,\n",
      "       [217, 214, 210, ..., 154, 106, 119],\n",
      "       [217, 218, 212, ..., 165, 165, 178],\n",
      "       [217, 215, 212, ..., 178, 186, 191]], dtype=uint8), array([[234, 235, 235, ..., 234, 235, 235],\n",
      "       [235, 234, 235, ..., 234, 234, 236],\n",
      "       [236, 234, 234, ..., 236, 236, 236],\n",
      "       ...,\n",
      "       [217, 214, 213, ..., 149, 104, 129],\n",
      "       [217, 218, 214, ..., 164, 170, 183],\n",
      "       [219, 218, 213, ..., 181, 190, 191]], dtype=uint8), array([[234, 235, 235, ..., 235, 235, 235],\n",
      "       [234, 234, 234, ..., 234, 236, 235],\n",
      "       [234, 236, 234, ..., 235, 234, 234],\n",
      "       ...,\n",
      "       [215, 215, 212, ..., 155, 127, 112],\n",
      "       [217, 215, 214, ..., 168, 169, 178],\n",
      "       [218, 214, 213, ..., 176, 185, 190]], dtype=uint8), array([[234, 234, 235, ..., 235, 234, 234],\n",
      "       [236, 234, 235, ..., 235, 235, 234],\n",
      "       [236, 234, 235, ..., 236, 235, 236],\n",
      "       ...,\n",
      "       [218, 217, 211, ..., 169, 182, 187],\n",
      "       [217, 217, 211, ..., 181, 186, 191],\n",
      "       [215, 214, 210, ..., 186, 186, 187]], dtype=uint8), array([[233, 233, 235, ..., 234, 234, 234],\n",
      "       [238, 233, 235, ..., 235, 234, 235],\n",
      "       [235, 235, 235, ..., 236, 234, 235],\n",
      "       ...,\n",
      "       [214, 213, 207, ..., 121, 162, 184],\n",
      "       [217, 217, 211, ..., 181, 190, 191],\n",
      "       [218, 218, 210, ..., 191, 190, 190]], dtype=uint8), array([[235, 234, 235, ..., 236, 235, 235],\n",
      "       [235, 233, 234, ..., 235, 235, 236],\n",
      "       [235, 234, 236, ..., 236, 238, 235],\n",
      "       ...,\n",
      "       [218, 215, 212, ..., 141, 175, 186],\n",
      "       [215, 214, 214, ..., 185, 189, 191],\n",
      "       [214, 213, 214, ..., 191, 191, 192]], dtype=uint8), array([[229, 233, 232, ..., 231, 232, 233],\n",
      "       [231, 232, 232, ..., 229, 233, 232],\n",
      "       [231, 229, 232, ..., 231, 231, 229],\n",
      "       ...,\n",
      "       [214, 214, 217, ..., 186, 186, 186],\n",
      "       [218, 219, 219, ..., 187, 186, 186],\n",
      "       [217, 219, 219, ..., 186, 186, 184]], dtype=uint8), array([[233, 231, 233, ..., 232, 233, 232],\n",
      "       [232, 233, 232, ..., 233, 232, 229],\n",
      "       [232, 233, 232, ..., 232, 232, 231],\n",
      "       ...,\n",
      "       [186, 185, 186, ..., 210, 213, 214],\n",
      "       [186, 186, 189, ..., 214, 215, 215],\n",
      "       [183, 183, 187, ..., 214, 214, 214]], dtype=uint8)]\n"
     ]
    },
    {
     "data": {
      "text/plain": "<matplotlib.image.AxesImage at 0x2946c33a0>"
     },
     "execution_count": 17,
     "metadata": {},
     "output_type": "execute_result"
    },
    {
     "data": {
      "text/plain": "<Figure size 432x288 with 1 Axes>",
      "image/png": "[encoded data removed]"
     },
     "metadata": {
      "needs_background": "light"
     },
     "output_type": "display_data"
    }
   ],
   "source": [
    "#Now we test if the lists actually work\n",
    "print(temporary_list_for_class_use_later[0].list_of_vector_array)\n",
    "plt.imshow(temporary_list_for_class_use_later[0].list_of_vector_array[0], cmap='gray', vmin=0, vmax=255)"
   ],
   "metadata": {
    "collapsed": false,
    "pycharm": {
     "name": "#%%\n"
    }
   }
  },
  {
   "cell_type": "code",
   "execution_count": null,
   "outputs": [],
   "source": [],
   "metadata": {
    "collapsed": false,
    "pycharm": {
     "name": "#%%\n"
    }
   }
  },
  {
   "cell_type": "code",
   "execution_count": null,
   "outputs": [],
   "source": [],
   "metadata": {
    "collapsed": false,
    "pycharm": {
     "name": "#%%\n"
    }
   }
  },
  {
   "cell_type": "code",
   "execution_count": 33,
   "outputs": [],
   "source": [],
   "metadata": {
    "collapsed": false,
    "pycharm": {
     "name": "#%%\n"
    }
   }
  },
  {
   "cell_type": "code",
   "execution_count": null,
   "outputs": [],
   "source": [],
   "metadata": {
    "collapsed": false,
    "pycharm": {
     "name": "#%%\n"
    }
   }
  }
 ],
 "metadata": {
  "kernelspec": {
   "display_name": "Python 3",
   "language": "python",
   "name": "python3"
  },
  "language_info": {
   "codemirror_mode": {
    "name": "ipython",
    "version": 2
   },
   "file_extension": ".py",
   "mimetype": "text/x-python",
   "name": "python",
   "nbconvert_exporter": "python",
   "pygments_lexer": "ipython2",
   "version": "2.7.6"
  }
 },
 "nbformat": 4,
 "nbformat_minor": 0
}