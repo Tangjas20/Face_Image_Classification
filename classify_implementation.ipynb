{
 "cells": [
  {
   "cell_type": "code",
   "execution_count": 1,
   "metadata": {
    "collapsed": true
   },
   "outputs": [],
   "source": [
    "import numpy as np\n",
    "import skimage.io as io\n",
    "import os"
   ]
  },
  {
   "cell_type": "code",
   "execution_count": 16,
   "outputs": [],
   "source": [
    "#This sorts a given list into alphanumeric order\n",
    "import re\n",
    "def sorted_nicely(l):\n",
    "    \"\"\" Sorts the given iterable in the way that is expected.\n",
    "    Required arguments:\n",
    "    l -- The iterable to be sorted.\n",
    "    \"\"\"\n",
    "    convert = lambda text: int(text) if text.isdigit() else text\n",
    "    alphanum_key = lambda key: [convert(c) for c in re.split('([0-9]+)', key)]\n",
    "    return sorted(l, key = alphanum_key)"
   ],
   "metadata": {
    "collapsed": false,
    "pycharm": {
     "name": "#%%\n"
    }
   }
  },
  {
   "cell_type": "code",
   "execution_count": 17,
   "outputs": [
    {
     "name": "stdout",
     "output_type": "stream",
     "text": [
      "['1a', '1b', '1c', '1d', '1e', '1f', '1g', '1h', '1i', '1j', '1k', '1l', '1m', '1n', '1o', '1p', '1q', '1r', '1s', '1t']\n"
     ]
    }
   ],
   "source": [
    "#This block will get the classification folder names and sort them into alphanumeric so it can be used later on for making classes.\n",
    "current_directory = os.getcwd()\n",
    "#print(current_directory)\n",
    "classification_file_directory = current_directory + \"/Classification_files\"\n",
    "classification_files_names = os.listdir(classification_file_directory)\n",
    "\n",
    "for i in classification_files_names:\n",
    "    if \".\" in i:\n",
    "        classification_files_names.remove(i)\n",
    "print(classification_files_names)"
   ],
   "metadata": {
    "collapsed": false,
    "pycharm": {
     "name": "#%%\n"
    }
   }
  },
  {
   "cell_type": "code",
   "execution_count": 21,
   "outputs": [
    {
     "name": "stdout",
     "output_type": "stream",
     "text": [
      "['1a000.pgm', '1a001.pgm', '1a002.pgm', '1a003.pgm', '1a004.pgm', '1a005.pgm', '1a006.pgm', '1a007.pgm', '1a008.pgm', '1a009.pgm', '1a010.pgm', '1a011.pgm', '1a012.pgm', '1a013.pgm', '1a014.pgm', '1a015.pgm', '1a016.pgm', '1a017.pgm', '1a018.pgm', '1a019.pgm', '1a020.pgm', '1a021.pgm', '1a022.pgm', '1a023.pgm', '1a024.pgm', '1a025.pgm', '1a026.pgm', '1a027.pgm', '1a028.pgm', '1a029.pgm', '1a030.pgm', '1a031.pgm', '1a032.pgm', '1a033.pgm', '1a034.pgm', '1a035.pgm', '1a041.pgm', '1a043.pgm']\n"
     ]
    }
   ],
   "source": [
    "#This block will now take those file directories and find the underlying picture files\n",
    "image_dictionary = {}\n",
    "for i in classification_files_names:\n",
    "    folder_name = i\n",
    "    individual_image_files = classification_file_directory + \"/{}/face\".format(folder_name)\n",
    "    list_of_individual_images = os.listdir(individual_image_files)\n",
    "    image_dictionary[i] = sorted_nicely(list_of_individual_images)\n",
    "\n",
    "#Now image_dictionary stores the key of the folder with the list of values in the folder\n",
    "#I did this so that we can iterate through it easily.\n",
    "print(image_dictionary['1a'])"
   ],
   "metadata": {
    "collapsed": false,
    "pycharm": {
     "name": "#%%\n"
    }
   }
  },
  {
   "cell_type": "code",
   "execution_count": null,
   "outputs": [],
   "source": [],
   "metadata": {
    "collapsed": false,
    "pycharm": {
     "name": "#%%\n"
    }
   }
  }
 ],
 "metadata": {
  "kernelspec": {
   "display_name": "Python 3",
   "language": "python",
   "name": "python3"
  },
  "language_info": {
   "codemirror_mode": {
    "name": "ipython",
    "version": 2
   },
   "file_extension": ".py",
   "mimetype": "text/x-python",
   "name": "python",
   "nbconvert_exporter": "python",
   "pygments_lexer": "ipython2",
   "version": "2.7.6"
  }
 },
 "nbformat": 4,
 "nbformat_minor": 0
}