{
 "cells": [
  {
   "cell_type": "code",
   "execution_count": 1,
   "id": "c1645f02",
   "metadata": {},
   "outputs": [],
   "source": [
    "import os\n",
    "import numpy as np\n",
    "from skimage import data, io, segmentation, color, data\n",
    "import matplotlib.pyplot as plt\n",
    "from skimage.transform import resize\n",
    "%store -r x\n",
    "%store -r y"
   ]
  },
  {
   "cell_type": "code",
   "execution_count": 2,
   "id": "4b0c4af2",
   "metadata": {},
   "outputs": [],
   "source": [
    "from sklearn.discriminant_analysis import LinearDiscriminantAnalysis\n",
    "# create the lda model\n",
    "model = LinearDiscriminantAnalysis()"
   ]
  },
  {
   "cell_type": "code",
   "execution_count": 4,
   "id": "e1249c11",
   "metadata": {},
   "outputs": [
    {
     "name": "stdout",
     "output_type": "stream",
     "text": [
      "Splitted Successfully\n",
      "The Model is trained well with the given images\n"
     ]
    }
   ],
   "source": [
    "from sklearn.model_selection import train_test_split\n",
    "x_train,x_test,y_train,y_test=train_test_split(x,y, test_size = 0.9, random_state=42, stratify = y)\n",
    "print('Splitted Successfully')\n",
    "model.fit(x_train,y_train)\n",
    "print('The Model is trained well with the given images')\n"
   ]
  },
  {
   "cell_type": "code",
   "execution_count": 5,
   "id": "81d19efd",
   "metadata": {},
   "outputs": [
    {
     "name": "stdout",
     "output_type": "stream",
     "text": [
      "The predicted Data is:\n",
      "[2 2 0 0 0 0 2 0 2 0 1 0 1 0 0 1 1 0 0 0 0 0 0 0 1 0 0 1 0 0 1 0 1 2 1 0 0\n",
      " 1 0 2 0 0 0 0 0 2 1 0 0 0 0 0 0 0 0 2 0 0 0 1 1 0 0 1 0 0 0 2 0 0 0 0 2 1\n",
      " 0 0 1 0 0 0 0 0 0 2 0 0 0 0 0 0 1 0 0 2 0 2 2 2 0 2 1 0 0 1 2 0 0 0 0 0 0\n",
      " 2 2 2 2 0 0 0 1 0 0 0 0 2 2 0 2 0 1 0 1 2 0 2 0 0 0 0 2 1 0 0 0 1 2 0 0 0\n",
      " 0 2 2 0 0 2 0 2 0 0 2 1 0 2 0 0 0 1 0 0 0 0 1 0 0 0 0 1 0 0 0 0 0 0 0 0 0\n",
      " 0 2 0 0 0 0 0 0 2 0 0 0 2 1 1 0 0 0 0 0 0 0 0 1 0 0 0 1 0 0 1 0 2 0 0 0 0\n",
      " 0 0 0 0 1 0 1 0 0 1 0 0 0 0 2 1 0 0 1 0 2 1 1 2 0 2 0 1 0 1 0 0 1 0 1 0 1\n",
      " 0 0 0 1 0 2 1 0 2 0 0 1 0 0 0 0 1 0 0 0 2 0 0 0 1 0 1 0 1 0 0 0 0 0 0 2 0\n",
      " 0 2 1 2 1 0 0 2 1 1 1 2 2 1 0 0 0 2 0 1 2 0 0 0 0 1 0 0 1 1 1 0 0 1 0 2 0\n",
      " 0 0 2 1 0 1 0 1 0 2 0 0 0 2 0 1 0 0 0 2 0 0 0 1 1 2 1 2 1 0 0 0 2 0 0 0 2\n",
      " 1 0 2 0 0 0 2 0 0 1 0 0 1 2 0 0 0 0 0 0 1 0 0 0 0 0 0 2 0 1 1 0 1 2 0 0 0\n",
      " 0 0 2 2 0 1 2 0 0 1 1 0 0 0 2 2 0 0 1 0 0 0 1 0 0 0 2 0 0 2 0 0 0 1 0 0 0\n",
      " 0 0 2 0 0 0 1 0 1 0 0 0 1 2 0 2 0 2 0 0 2 2 0 0 0 1 0 0 0 0 0 0 0 2 1 0 0\n",
      " 2 0 0 2 1 2 0 0 0 0 2 1 2 1 0 1 0 1 0 2 0 0 0 0 0 1 2 0 0 0 0 0 0 0 0 0 0]\n",
      "The actual data is:\n",
      "[2 2 1 0 0 1 2 0 2 0 2 0 1 0 0 1 1 0 0 0 0 0 0 0 2 0 0 1 0 0 1 0 1 2 1 0 0\n",
      " 1 0 2 0 0 0 0 0 2 2 0 0 0 0 0 0 0 0 2 1 0 0 0 1 0 0 2 0 0 0 2 0 0 0 0 2 1\n",
      " 0 0 1 0 0 0 0 0 0 2 1 0 0 0 0 0 1 0 0 2 0 2 2 2 0 2 2 0 0 1 2 0 0 2 0 0 0\n",
      " 2 2 2 2 0 0 0 1 0 1 0 0 2 2 0 2 0 1 0 1 2 0 2 0 0 0 0 2 1 0 0 0 1 2 0 0 0\n",
      " 0 2 2 0 0 2 0 2 1 0 2 1 0 2 0 0 0 1 0 0 0 0 2 0 0 0 0 2 0 1 0 0 2 0 0 1 0\n",
      " 0 2 0 0 0 0 0 0 2 0 0 0 2 1 1 0 0 0 0 0 0 0 0 1 0 0 0 1 0 0 1 0 2 0 0 0 0\n",
      " 0 0 0 0 1 0 1 0 0 1 2 0 0 0 2 1 0 0 1 0 2 1 2 2 0 2 0 1 0 1 0 0 2 0 1 0 1\n",
      " 0 0 1 1 0 2 1 0 2 0 0 1 0 0 0 0 1 0 0 2 2 0 1 0 1 0 2 0 1 0 0 0 0 0 0 2 0\n",
      " 0 2 1 2 0 0 0 2 1 2 2 2 2 1 0 0 0 2 0 1 2 0 0 0 0 1 0 0 1 2 1 0 0 1 0 2 0\n",
      " 0 0 2 2 0 1 0 1 0 2 0 0 0 2 0 1 0 0 0 2 0 0 0 1 1 2 1 2 1 0 0 0 2 0 0 0 2\n",
      " 2 0 2 0 0 0 2 0 0 2 0 0 1 2 0 0 0 0 0 0 0 2 0 0 1 0 0 2 0 2 1 0 0 2 0 0 0\n",
      " 0 0 2 2 0 1 2 0 0 1 1 0 0 0 2 2 0 0 1 0 0 0 1 0 0 0 2 0 0 2 0 0 0 1 0 0 0\n",
      " 0 0 2 0 0 0 1 0 1 0 0 0 1 2 0 2 0 2 0 0 2 2 0 0 0 1 0 0 0 0 0 0 0 2 1 0 0\n",
      " 2 0 2 2 1 2 0 0 1 0 2 2 2 0 0 1 0 1 0 2 0 0 0 0 0 1 2 0 0 0 0 0 0 0 0 0 0]\n",
      "0.9208494208494209\n"
     ]
    }
   ],
   "source": [
    "from sklearn.metrics import accuracy_score\n",
    "\n",
    "y_pred = model.predict(x_test)\n",
    "print(\"The predicted Data is:\")\n",
    "print(y_pred)\n",
    "print(\"The actual data is:\")\n",
    "print(np.array(y_test))\n",
    "\n",
    "print(accuracy_score(y_test, y_pred))"
   ]
  },
  {
   "cell_type": "code",
   "execution_count": null,
   "id": "0a28cd4f",
   "metadata": {},
   "outputs": [],
   "source": []
  }
 ],
 "metadata": {
  "kernelspec": {
   "display_name": "Python 3 (ipykernel)",
   "language": "python",
   "name": "python3"
  },
  "language_info": {
   "codemirror_mode": {
    "name": "ipython",
    "version": 3
   },
   "file_extension": ".py",
   "mimetype": "text/x-python",
   "name": "python",
   "nbconvert_exporter": "python",
   "pygments_lexer": "ipython3",
   "version": "3.9.7"
  }
 },
 "nbformat": 4,
 "nbformat_minor": 5
}
