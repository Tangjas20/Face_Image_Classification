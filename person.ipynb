{
 "cells": [
  {
   "cell_type": "code",
   "execution_count": 11,
   "id": "2952192a",
   "metadata": {},
   "outputs": [],
   "source": [
    "import numpy as np\n",
    "import pandas as pd"
   ]
  },
  {
   "cell_type": "code",
   "execution_count": 12,
   "id": "7c2383d4",
   "metadata": {},
   "outputs": [],
   "source": [
    "class Person:\n",
    "    list_of_vector_array = []\n",
    "    gender = None\n",
    "    race = None\n",
    "    target = None\n",
    "\n",
    "    def __init__(self, name, list_of_vector_array):\n",
    "        self.name_of_person = name\n",
    "        self.list_of_vector_array = np.array(list_of_vector_array)"
   ]
  }
 ],
 "metadata": {
  "kernelspec": {
   "display_name": "Python 3 (ipykernel)",
   "language": "python",
   "name": "python3"
  },
  "language_info": {
   "codemirror_mode": {
    "name": "ipython",
    "version": 3
   },
   "file_extension": ".py",
   "mimetype": "text/x-python",
   "name": "python",
   "nbconvert_exporter": "python",
   "pygments_lexer": "ipython3",
   "version": "3.9.7"
  }
 },
 "nbformat": 4,
 "nbformat_minor": 5
}
