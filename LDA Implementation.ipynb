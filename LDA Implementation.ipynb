{
 "cells": [
  {
   "cell_type": "code",
   "execution_count": 1,
   "metadata": {
    "collapsed": true,
    "pycharm": {
     "name": "#%%\n"
    }
   },
   "outputs": [],
   "source": [
    "import os\n",
    "import numpy as np\n",
    "from skimage import data, io, segmentation, color, data\n",
    "import matplotlib.pyplot as plt\n",
    "from skimage.transform import resize\n",
    "%store -r x\n",
    "%store -r y"
   ]
  },
  {
   "cell_type": "code",
   "execution_count": 2,
   "outputs": [],
   "source": [
    "from sklearn.discriminant_analysis import LinearDiscriminantAnalysis\n",
    "# create the lda model\n",
    "model = LinearDiscriminantAnalysis()"
   ],
   "metadata": {
    "collapsed": false,
    "pycharm": {
     "name": "#%%\n"
    }
   }
  },
  {
   "cell_type": "code",
   "execution_count": 4,
   "outputs": [
    {
     "name": "stdout",
     "output_type": "stream",
     "text": [
      "Splitted Successfully\n",
      "The Model is trained well with the given images\n"
     ]
    }
   ],
   "source": [
    "from sklearn.model_selection import train_test_split\n",
    "x_train,x_test,y_train,y_test=train_test_split(x,y, test_size = 0.2, random_state=42, stratify = y)\n",
    "print('Splitted Successfully')\n",
    "model.fit(x_train,y_train)\n",
    "print('The Model is trained well with the given images')\n"
   ],
   "metadata": {
    "collapsed": false,
    "pycharm": {
     "name": "#%%\n"
    }
   }
  },
  {
   "cell_type": "code",
   "execution_count": 5,
   "outputs": [
    {
     "name": "stdout",
     "output_type": "stream",
     "text": [
      "The predicted Data is:\n",
      "[0 0 2 1 1 2 2 0 0 0 0 0 0 0 0 0 1 2 1 0 0 0 2 2 0 1 0 0 0 0 0 0 0 0 1 0 1\n",
      " 0 0 0 1 0 2 0 0 0 2 0 0 2 2 1 0 1 0 0 1 0 1 2 1 0 1 0 0 0 2 0 0 0 2 2 0 0\n",
      " 2 1 1 1 0 2 2 0 0 0 0 0 2 1 0 0 0 1 0 2 0 2 2 0 0 1 0 0 2 0 0 0 0 0 1 2 0\n",
      " 0 0 0 0]\n",
      "The actual data is:\n",
      "[0 0 2 1 2 2 2 0 0 0 0 0 0 0 0 0 1 2 1 0 0 0 2 2 0 1 0 0 0 0 0 0 0 0 1 0 1\n",
      " 0 0 0 1 0 2 0 0 0 2 0 0 2 2 1 0 1 0 0 1 0 1 2 1 0 1 0 0 0 2 0 0 0 2 2 0 0\n",
      " 2 1 1 1 0 2 2 0 0 0 0 0 2 1 0 0 0 1 0 2 0 2 2 0 0 2 0 0 2 0 0 0 0 0 1 2 0\n",
      " 0 0 0 0]\n",
      "0.9826086956521739\n"
     ]
    }
   ],
   "source": [
    "from sklearn.metrics import accuracy_score\n",
    "\n",
    "y_pred = model.predict(x_test)\n",
    "print(\"The predicted Data is:\")\n",
    "print(y_pred)\n",
    "print(\"The actual data is:\")\n",
    "print(np.array(y_test))\n",
    "\n",
    "print(accuracy_score(y_test, y_pred))"
   ],
   "metadata": {
    "collapsed": false,
    "pycharm": {
     "name": "#%%\n"
    }
   }
  }
 ],
 "metadata": {
  "kernelspec": {
   "display_name": "Python 3",
   "language": "python",
   "name": "python3"
  },
  "language_info": {
   "codemirror_mode": {
    "name": "ipython",
    "version": 2
   },
   "file_extension": ".py",
   "mimetype": "text/x-python",
   "name": "python",
   "nbconvert_exporter": "python",
   "pygments_lexer": "ipython2",
   "version": "2.7.6"
  }
 },
 "nbformat": 4,
 "nbformat_minor": 0
}