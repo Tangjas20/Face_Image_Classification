{
 "cells": [
  {
   "cell_type": "code",
   "execution_count": 1,
   "id": "371d67a1",
   "metadata": {},
   "outputs": [],
   "source": [
    "from ipynb.fs.defs.person import Person\n",
    "import numpy as np\n",
    "import pandas as pd\n",
    "from skimage import data, io, segmentation, color, data\n",
    "from skimage.future import graph\n",
    "import os\n",
    "import matplotlib.pyplot as plt\n",
    "from skimage.transform import resize\n",
    "import re"
   ]
  },
  {
   "cell_type": "code",
   "execution_count": 2,
   "id": "2e951e68",
   "metadata": {},
   "outputs": [],
   "source": [
    "def sorted_nicely(l):\n",
    "    \"\"\" Sorts the given iterable in the way that is expected.\n",
    "    Required arguments:\n",
    "    l -- The iterable to be sorted.\n",
    "    \"\"\"\n",
    "    convert = lambda text: int(text) if text.isdigit() else text\n",
    "    alphanum_key = lambda key: [convert(c) for c in re.split('([0-9]+)', key)]\n",
    "    return sorted(l, key = alphanum_key)"
   ]
  },
  {
   "cell_type": "code",
   "execution_count": 3,
   "id": "7ffe25ae",
   "metadata": {},
   "outputs": [],
   "source": [
    "def file_name_list(foldername):\n",
    "    #This block will get the classification folder names and sort them into alphanumeric so it can be used later on for making classes.\n",
    "    current_directory = os.getcwd()\n",
    "    classification_file_directory = current_directory + \"/\" + foldername\n",
    "    classification_files_names = os.listdir(classification_file_directory)\n",
    "\n",
    "    for i in classification_files_names:\n",
    "        if \".\" in i:\n",
    "            classification_files_names.remove(i)\n",
    "    classification_files_names = sorted_nicely(classification_files_names)\n",
    "    return classification_file_directory, classification_files_names"
   ]
  },
  {
   "cell_type": "code",
   "execution_count": 4,
   "id": "aadcf52c",
   "metadata": {},
   "outputs": [],
   "source": [
    "def create_image_dictionary(classification_file_directory, classification_file_names):\n",
    "    image_dictionary = {}\n",
    "    for folder_name in classification_file_names:\n",
    "        individual_image_files = classification_file_directory + \"/{}/face\".format(folder_name)\n",
    "        list_of_individual_images = os.listdir(individual_image_files)\n",
    "        image_dictionary[folder_name] = sorted_nicely(list_of_individual_images)\n",
    "\n",
    "#Now image_dictionary stores the key of the folder with the list of values in the folder\n",
    "#I did this so that we can iterate through it easily.\n",
    "    return image_dictionary"
   ]
  },
  {
   "cell_type": "code",
   "execution_count": 5,
   "id": "167914e5",
   "metadata": {},
   "outputs": [],
   "source": [
    "def vectorise_images(key_list, image_dictionary, classification_file_directory):\n",
    "    ls = []\n",
    "    for key in key_list:\n",
    "\n",
    "        image_list = []\n",
    "        for i in image_dictionary[key]:\n",
    "            vector_image = io.imread(classification_file_directory + \"/{}/face/\".format(key) + i)\n",
    "            img_resized = resize(vector_image, (112, 92, 4))\n",
    "            flatten_img = img_resized.flatten()\n",
    "            image_list.append(flatten_img)\n",
    "\n",
    "        person = Person(key, image_list)\n",
    "        ls.append(person)\n",
    "    return ls"
   ]
  }
 ],
 "metadata": {
  "kernelspec": {
   "display_name": "Python 3 (ipykernel)",
   "language": "python",
   "name": "python3"
  },
  "language_info": {
   "codemirror_mode": {
    "name": "ipython",
    "version": 3
   },
   "file_extension": ".py",
   "mimetype": "text/x-python",
   "name": "python",
   "nbconvert_exporter": "python",
   "pygments_lexer": "ipython3",
   "version": "3.9.7"
  }
 },
 "nbformat": 4,
 "nbformat_minor": 5
}
